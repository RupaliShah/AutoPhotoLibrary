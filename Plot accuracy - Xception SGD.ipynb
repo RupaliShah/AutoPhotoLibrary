{
 "cells": [
  {
   "cell_type": "code",
   "execution_count": 71,
   "metadata": {
    "collapsed": true
   },
   "outputs": [],
   "source": [
    "#Dependencies\n",
    "import os\n",
    "import numpy as np\n",
    "import tensorflow as tf\n",
    "import PIL\n",
    "import pandas as pd\n",
    "\n",
    "import keras \n",
    "from keras.preprocessing import image\n",
    "from keras.models import Model\n",
    "from keras.models import load_model\n",
    "from keras.utils import to_categorical\n",
    "from keras.layers import Dense, GlobalAveragePooling2D\n",
    "from keras.preprocessing.image import ImageDataGenerator\n",
    "from keras.applications.vgg19 import (VGG19, preprocess_input, decode_predictions)\n",
    "\n",
    "from sklearn.model_selection import train_test_split"
   ]
  },
  {
   "cell_type": "code",
   "execution_count": 72,
   "metadata": {},
   "outputs": [],
   "source": [
    "# Trained Model\n",
    "model_1 = load_model(\"Xception_train_b10_ep100_SGD.h5\")\n",
    "model_2 = load_model(\"Xception_train_b10_ep200_SGD.h5\")"
   ]
  },
  {
   "cell_type": "code",
   "execution_count": 73,
   "metadata": {
    "collapsed": true
   },
   "outputs": [],
   "source": [
    "test_batch = 'images_split/test'"
   ]
  },
  {
   "cell_type": "code",
   "execution_count": 74,
   "metadata": {},
   "outputs": [
    {
     "name": "stdout",
     "output_type": "stream",
     "text": [
      "Found 374 images belonging to 8 classes.\n"
     ]
    }
   ],
   "source": [
    "test_datagen = ImageDataGenerator(rescale=1. / 255)\n",
    "\n",
    "test_batches = test_datagen.flow_from_directory(\n",
    "                                directory=test_batch,\n",
    "                                target_size=(224,224),  \n",
    "                                classes=['animals','beaches','birds','electronics','fashion','nature','landmarks','people'],                           \n",
    "                                batch_size=5\n",
    "                                )       "
   ]
  },
  {
   "cell_type": "code",
   "execution_count": 75,
   "metadata": {},
   "outputs": [],
   "source": [
    "predictions_1 = model_1.predict_generator(test_batches, 10)\n",
    "predictions_2 = model_2.predict_generator(test_batches, 10)"
   ]
  },
  {
   "cell_type": "code",
   "execution_count": 76,
   "metadata": {},
   "outputs": [
    {
     "data": {
      "text/plain": [
       "array([[  2.79258711e-05,   7.25504826e-04,   8.48835407e-05,\n",
       "          2.90149328e-04,   5.33336599e-04,   9.99840675e-04,\n",
       "          5.97344013e-04,   9.96740997e-01],\n",
       "       [  3.27589805e-06,   2.43482646e-04,   1.53016697e-06,\n",
       "          4.19591152e-06,   5.64471384e-06,   9.92576778e-01,\n",
       "          7.11600622e-03,   4.89866652e-05],\n",
       "       [  9.68228519e-01,   2.05774428e-04,   5.96797800e-05,\n",
       "          5.87139839e-05,   1.13010115e-04,   1.25749856e-02,\n",
       "          1.87394526e-02,   1.98320668e-05],\n",
       "       [  2.35632896e-07,   4.99396037e-07,   9.93896254e-09,\n",
       "          2.69081344e-08,   9.51836867e-08,   9.99998450e-01,\n",
       "          4.46801010e-07,   2.37285619e-07],\n",
       "       [  9.98676717e-01,   1.63398672e-05,   1.37590241e-05,\n",
       "          1.93837741e-06,   9.40427617e-06,   8.91969539e-05,\n",
       "          1.18947879e-03,   3.16086243e-06],\n",
       "       [  9.99910235e-01,   9.66560719e-07,   2.24587893e-06,\n",
       "          2.40535627e-07,   3.97001941e-07,   2.05704164e-05,\n",
       "          6.47119232e-05,   5.54746919e-07],\n",
       "       [  3.22295273e-05,   2.80387653e-03,   6.86344065e-05,\n",
       "          1.33674970e-04,   2.73894675e-05,   8.45325813e-02,\n",
       "          9.11460817e-01,   9.40751575e-04],\n",
       "       [  9.79385533e-08,   1.82045517e-06,   1.92778361e-06,\n",
       "          9.99900818e-01,   1.32527362e-06,   8.36982654e-05,\n",
       "          5.07339291e-06,   5.20401318e-06],\n",
       "       [  4.76798550e-06,   1.66317659e-05,   1.18249409e-05,\n",
       "          9.99873281e-01,   1.06567722e-05,   6.25656903e-05,\n",
       "          1.43634807e-05,   5.85827138e-06],\n",
       "       [  7.69532263e-01,   8.67185532e-04,   3.08695226e-03,\n",
       "          7.20936479e-03,   6.03852645e-02,   4.75940965e-02,\n",
       "          3.93398330e-02,   7.19849914e-02],\n",
       "       [  5.03855348e-02,   1.02116615e-02,   1.52181159e-03,\n",
       "          9.72625613e-03,   2.24196282e-03,   1.44109458e-01,\n",
       "          2.19774529e-01,   5.62028825e-01],\n",
       "       [  1.99509032e-06,   1.39637323e-05,   4.88692313e-05,\n",
       "          9.95122850e-01,   4.19352000e-06,   4.77946876e-03,\n",
       "          1.46331395e-05,   1.41480978e-05],\n",
       "       [  5.25453252e-05,   1.76473498e-01,   4.22549492e-05,\n",
       "          4.13414346e-05,   3.05559544e-04,   6.82648458e-03,\n",
       "          2.96065547e-02,   7.86651850e-01],\n",
       "       [  6.42673649e-06,   9.99577701e-01,   2.89807235e-06,\n",
       "          6.54185260e-06,   6.22204789e-06,   3.47918140e-05,\n",
       "          3.20620078e-04,   4.47954153e-05],\n",
       "       [  4.35060319e-05,   7.21682853e-04,   1.45029571e-05,\n",
       "          5.61391207e-05,   6.50157332e-01,   2.43625705e-04,\n",
       "          2.00972339e-04,   3.48562300e-01],\n",
       "       [  3.65417291e-05,   2.63993337e-04,   9.80906952e-06,\n",
       "          2.29497347e-03,   5.17388761e-01,   1.72523819e-02,\n",
       "          1.93971652e-03,   4.60813850e-01],\n",
       "       [  1.52272648e-07,   4.57757778e-06,   8.47549231e-08,\n",
       "          1.64924614e-07,   6.26522549e-08,   7.32943445e-05,\n",
       "          9.99916553e-01,   5.11242160e-06],\n",
       "       [  2.80795825e-06,   1.14284730e-05,   5.80246251e-07,\n",
       "          5.97751614e-06,   5.60612464e-03,   7.80415485e-06,\n",
       "          1.36123363e-05,   9.94351625e-01],\n",
       "       [  9.95745122e-01,   6.60239384e-05,   1.95092245e-04,\n",
       "          1.86004283e-04,   5.18990797e-04,   2.16221227e-03,\n",
       "          3.93675698e-04,   7.32853252e-04],\n",
       "       [  3.53310065e-06,   1.14026398e-05,   1.58829425e-05,\n",
       "          9.97340381e-01,   6.67195718e-06,   2.56709917e-03,\n",
       "          4.67812315e-05,   8.31073612e-06],\n",
       "       [  1.84757126e-04,   6.44231623e-05,   9.96876359e-01,\n",
       "          6.53301831e-05,   1.69451494e-04,   1.65221933e-03,\n",
       "          3.07958340e-04,   6.79461809e-04],\n",
       "       [  2.23104889e-05,   2.72092409e-04,   7.25137352e-06,\n",
       "          8.54678510e-05,   3.97672743e-01,   3.06678732e-04,\n",
       "          4.18014642e-05,   6.01591647e-01],\n",
       "       [  7.70769384e-06,   5.96820864e-05,   1.21115027e-05,\n",
       "          2.69112206e-04,   1.96944818e-01,   1.36244044e-01,\n",
       "          9.39845704e-05,   6.66368544e-01],\n",
       "       [  6.33606032e-06,   2.31968224e-05,   1.18847256e-05,\n",
       "          9.99254644e-01,   2.23034840e-05,   3.03912442e-04,\n",
       "          2.53420658e-05,   3.52390285e-04],\n",
       "       [  9.38835859e-01,   6.69984031e-04,   2.07046280e-03,\n",
       "          9.19399969e-03,   1.42555851e-02,   1.65144745e-02,\n",
       "          7.31718494e-03,   1.11425947e-02],\n",
       "       [  5.08990706e-06,   3.68394285e-05,   7.93129914e-07,\n",
       "          1.12491580e-05,   1.34290731e-05,   7.40190595e-03,\n",
       "          9.90027487e-01,   2.50320765e-03],\n",
       "       [  1.37940451e-05,   1.83488664e-05,   8.39729864e-07,\n",
       "          1.64180110e-05,   1.95170924e-05,   9.99823749e-01,\n",
       "          9.16249846e-05,   1.57267859e-05],\n",
       "       [  3.51299900e-06,   4.06166015e-04,   7.19939862e-06,\n",
       "          2.49983186e-05,   9.73550141e-06,   8.43176991e-03,\n",
       "          9.90296662e-01,   8.19979585e-04],\n",
       "       [  1.85222029e-06,   3.72388677e-05,   3.69842553e-07,\n",
       "          1.13331826e-05,   1.66951939e-01,   1.04283530e-03,\n",
       "          3.37677629e-04,   8.31616759e-01],\n",
       "       [  1.04328910e-06,   2.70959445e-05,   1.15679870e-06,\n",
       "          2.94527581e-05,   9.82646763e-01,   4.13238071e-04,\n",
       "          5.10822101e-05,   1.68301202e-02],\n",
       "       [  7.61189040e-06,   1.44299602e-05,   1.55273665e-05,\n",
       "          9.99744475e-01,   2.97858878e-06,   1.45881073e-04,\n",
       "          1.15994208e-05,   5.75658087e-05],\n",
       "       [  1.61922810e-06,   7.74761793e-05,   2.29168495e-06,\n",
       "          2.78601215e-06,   9.93382454e-01,   7.68278609e-04,\n",
       "          2.20896836e-05,   5.74291032e-03],\n",
       "       [  9.98673081e-01,   1.40213560e-05,   3.23216409e-05,\n",
       "          2.25588301e-05,   7.50347363e-06,   1.01493194e-03,\n",
       "          1.39386233e-04,   9.63619023e-05],\n",
       "       [  5.32229185e-01,   1.33516162e-03,   2.24805605e-02,\n",
       "          2.59509520e-03,   1.91643666e-02,   3.67031395e-01,\n",
       "          4.74493653e-02,   7.71486387e-03],\n",
       "       [  3.50325555e-01,   1.90480950e-03,   1.91772904e-03,\n",
       "          4.37928457e-03,   1.09566404e-02,   6.02307320e-01,\n",
       "          1.59478504e-02,   1.22608477e-02],\n",
       "       [  3.40219844e-06,   3.83202178e-06,   1.66355073e-06,\n",
       "          1.60771629e-06,   9.99376953e-01,   2.90316064e-04,\n",
       "          9.72890630e-05,   2.24900330e-04],\n",
       "       [  1.06126499e-04,   7.64214565e-05,   1.37341951e-04,\n",
       "          9.97563601e-01,   1.22907759e-05,   1.58410508e-03,\n",
       "          5.06059092e-04,   1.41265500e-05],\n",
       "       [  7.41923810e-04,   5.61497698e-04,   3.42419982e-04,\n",
       "          1.17471602e-04,   3.67854314e-04,   9.96534228e-01,\n",
       "          1.08055270e-03,   2.53976410e-04],\n",
       "       [  3.10609583e-04,   1.76656749e-02,   4.83326381e-04,\n",
       "          1.52348593e-01,   9.57194774e-04,   7.99094975e-01,\n",
       "          2.06776671e-02,   8.46199878e-03],\n",
       "       [  3.60809558e-04,   1.76991883e-03,   2.68800795e-04,\n",
       "          4.19975072e-03,   6.59932673e-01,   1.31667955e-02,\n",
       "          5.83810732e-03,   3.14463198e-01],\n",
       "       [  7.07041181e-05,   9.79540467e-01,   2.04406515e-05,\n",
       "          2.04539800e-04,   9.92560526e-05,   1.77160706e-02,\n",
       "          2.04698555e-03,   3.01616674e-04],\n",
       "       [  9.06205671e-08,   1.98469588e-05,   8.72963426e-08,\n",
       "          1.75077400e-06,   1.76193535e-05,   3.60963076e-01,\n",
       "          6.38278961e-01,   7.18570023e-04],\n",
       "       [  9.96614397e-01,   1.50354012e-04,   1.86174657e-04,\n",
       "          1.81663363e-05,   2.59008695e-04,   2.28658528e-03,\n",
       "          4.71418229e-04,   1.38586529e-05],\n",
       "       [  1.39322754e-06,   1.85567496e-05,   2.36473880e-07,\n",
       "          2.90643402e-06,   1.22396659e-06,   9.99970555e-01,\n",
       "          3.63910749e-06,   1.38401583e-06],\n",
       "       [  9.38010812e-01,   6.83215039e-04,   5.32032596e-03,\n",
       "          3.02047143e-03,   1.96393044e-03,   4.28341217e-02,\n",
       "          5.89937856e-03,   2.26775743e-03],\n",
       "       [  8.59512438e-05,   4.83290705e-06,   8.46265209e-07,\n",
       "          1.07908700e-05,   8.56364477e-06,   1.53464661e-03,\n",
       "          9.97495294e-01,   8.59173655e-04],\n",
       "       [  3.37026648e-07,   5.42694295e-07,   7.23278504e-08,\n",
       "          7.70872589e-07,   1.44681633e-06,   9.99994278e-01,\n",
       "          4.66429327e-07,   2.07050516e-06],\n",
       "       [  1.66769532e-05,   1.85061261e-04,   3.53617384e-06,\n",
       "          1.06064726e-05,   8.43306124e-01,   9.21750325e-04,\n",
       "          9.42058832e-05,   1.55462116e-01],\n",
       "       [  1.83899899e-03,   8.86481255e-03,   1.58094317e-02,\n",
       "          2.85139233e-02,   4.55664983e-03,   9.04692173e-01,\n",
       "          1.90890301e-02,   1.66349672e-02],\n",
       "       [  2.08934875e-06,   9.99927521e-01,   4.63142158e-07,\n",
       "          2.15681303e-06,   2.17864363e-06,   1.36513445e-05,\n",
       "          3.86309766e-05,   1.32395535e-05]], dtype=float32)"
      ]
     },
     "execution_count": 76,
     "metadata": {},
     "output_type": "execute_result"
    }
   ],
   "source": [
    "predictions_1\n",
    "predictions_2"
   ]
  },
  {
   "cell_type": "code",
   "execution_count": 77,
   "metadata": {},
   "outputs": [
    {
     "data": {
      "text/html": [
       "<div>\n",
       "<style>\n",
       "    .dataframe thead tr:only-child th {\n",
       "        text-align: right;\n",
       "    }\n",
       "\n",
       "    .dataframe thead th {\n",
       "        text-align: left;\n",
       "    }\n",
       "\n",
       "    .dataframe tbody tr th {\n",
       "        vertical-align: top;\n",
       "    }\n",
       "</style>\n",
       "<table border=\"1\" class=\"dataframe\">\n",
       "  <thead>\n",
       "    <tr style=\"text-align: right;\">\n",
       "      <th></th>\n",
       "      <th>Mean_Accuracy</th>\n",
       "      <th>Standard_Deviation</th>\n",
       "    </tr>\n",
       "  </thead>\n",
       "  <tbody>\n",
       "    <tr>\n",
       "      <th>animals</th>\n",
       "      <td>0.179582</td>\n",
       "      <td>0.366519</td>\n",
       "    </tr>\n",
       "    <tr>\n",
       "      <th>beaches</th>\n",
       "      <td>0.066115</td>\n",
       "      <td>0.238494</td>\n",
       "    </tr>\n",
       "    <tr>\n",
       "      <th>birds</th>\n",
       "      <td>0.021237</td>\n",
       "      <td>0.140428</td>\n",
       "    </tr>\n",
       "    <tr>\n",
       "      <th>electronics</th>\n",
       "      <td>0.149267</td>\n",
       "      <td>0.348975</td>\n",
       "    </tr>\n",
       "    <tr>\n",
       "      <th>fashion</th>\n",
       "      <td>0.124360</td>\n",
       "      <td>0.286182</td>\n",
       "    </tr>\n",
       "    <tr>\n",
       "      <th>nature</th>\n",
       "      <td>0.186483</td>\n",
       "      <td>0.345229</td>\n",
       "    </tr>\n",
       "    <tr>\n",
       "      <th>landmarks</th>\n",
       "      <td>0.128775</td>\n",
       "      <td>0.318067</td>\n",
       "    </tr>\n",
       "    <tr>\n",
       "      <th>people</th>\n",
       "      <td>0.144180</td>\n",
       "      <td>0.292160</td>\n",
       "    </tr>\n",
       "  </tbody>\n",
       "</table>\n",
       "</div>"
      ],
      "text/plain": [
       "             Mean_Accuracy  Standard_Deviation\n",
       "animals           0.179582            0.366519\n",
       "beaches           0.066115            0.238494\n",
       "birds             0.021237            0.140428\n",
       "electronics       0.149267            0.348975\n",
       "fashion           0.124360            0.286182\n",
       "nature            0.186483            0.345229\n",
       "landmarks         0.128775            0.318067\n",
       "people            0.144180            0.292160"
      ]
     },
     "execution_count": 77,
     "metadata": {},
     "output_type": "execute_result"
    }
   ],
   "source": [
    "#plot the average of accuray for each \n",
    "import matplotlib.pyplot as plt\n",
    "import seaborn as sns\n",
    "\n",
    "classes = ['animals','beaches','birds','electronics','fashion','nature','landmarks','people']\n",
    "\n",
    "df1 = pd.DataFrame(data = predictions_1[0:,0:], columns = classes)\n",
    "df2 = pd.DataFrame(data = predictions_2[0:,0:], columns = classes)\n",
    "\n",
    "means1 = df1.mean()\n",
    "errors1 = df1.std()\n",
    "\n",
    "means2 = df2.mean()\n",
    "errors2 = df2.std()\n",
    "\n",
    "d1 = {'Mean_Accuracy': means1, 'Standard_Deviation': errors1}\n",
    "table_df1 = pd.DataFrame(data=d1, index=classes)\n",
    "table_df1"
   ]
  },
  {
   "cell_type": "code",
   "execution_count": 78,
   "metadata": {},
   "outputs": [
    {
     "data": {
      "text/html": [
       "<div>\n",
       "<style>\n",
       "    .dataframe thead tr:only-child th {\n",
       "        text-align: right;\n",
       "    }\n",
       "\n",
       "    .dataframe thead th {\n",
       "        text-align: left;\n",
       "    }\n",
       "\n",
       "    .dataframe tbody tr th {\n",
       "        vertical-align: top;\n",
       "    }\n",
       "</style>\n",
       "<table border=\"1\" class=\"dataframe\">\n",
       "  <thead>\n",
       "    <tr style=\"text-align: right;\">\n",
       "      <th></th>\n",
       "      <th>Mean_Accuracy</th>\n",
       "      <th>Standard_Deviation</th>\n",
       "    </tr>\n",
       "  </thead>\n",
       "  <tbody>\n",
       "    <tr>\n",
       "      <th>animals</th>\n",
       "      <td>0.190823</td>\n",
       "      <td>0.374113</td>\n",
       "    </tr>\n",
       "    <tr>\n",
       "      <th>beaches</th>\n",
       "      <td>0.064133</td>\n",
       "      <td>0.238384</td>\n",
       "    </tr>\n",
       "    <tr>\n",
       "      <th>birds</th>\n",
       "      <td>0.021024</td>\n",
       "      <td>0.140877</td>\n",
       "    </tr>\n",
       "    <tr>\n",
       "      <th>electronics</th>\n",
       "      <td>0.144280</td>\n",
       "      <td>0.348792</td>\n",
       "    </tr>\n",
       "    <tr>\n",
       "      <th>fashion</th>\n",
       "      <td>0.130608</td>\n",
       "      <td>0.291530</td>\n",
       "    </tr>\n",
       "    <tr>\n",
       "      <th>nature</th>\n",
       "      <td>0.192032</td>\n",
       "      <td>0.357739</td>\n",
       "    </tr>\n",
       "    <tr>\n",
       "      <th>landmarks</th>\n",
       "      <td>0.119491</td>\n",
       "      <td>0.304205</td>\n",
       "    </tr>\n",
       "    <tr>\n",
       "      <th>people</th>\n",
       "      <td>0.137609</td>\n",
       "      <td>0.283230</td>\n",
       "    </tr>\n",
       "  </tbody>\n",
       "</table>\n",
       "</div>"
      ],
      "text/plain": [
       "             Mean_Accuracy  Standard_Deviation\n",
       "animals           0.190823            0.374113\n",
       "beaches           0.064133            0.238384\n",
       "birds             0.021024            0.140877\n",
       "electronics       0.144280            0.348792\n",
       "fashion           0.130608            0.291530\n",
       "nature            0.192032            0.357739\n",
       "landmarks         0.119491            0.304205\n",
       "people            0.137609            0.283230"
      ]
     },
     "execution_count": 78,
     "metadata": {},
     "output_type": "execute_result"
    }
   ],
   "source": [
    "d2 = {'Mean_Accuracy': means2, 'Standard_Deviation': errors2}\n",
    "table_df2 = pd.DataFrame(data=d2, index=classes)\n",
    "table_df2"
   ]
  },
  {
   "cell_type": "code",
   "execution_count": 111,
   "metadata": {},
   "outputs": [
    {
     "data": {
      "text/plain": [
       "<matplotlib.figure.Figure at 0x21941aea908>"
      ]
     },
     "metadata": {},
     "output_type": "display_data"
    },
    {
     "data": {
      "image/png": "[encoded data removed]",
      "text/plain": [
       "<matplotlib.figure.Figure at 0x2193c5ab358>"
      ]
     },
     "metadata": {},
     "output_type": "display_data"
    }
   ],
   "source": [
    "plt.figure(figsize=(12,6)) \n",
    "fig1 = sns.barplot(data=df1, capsize=.1) \n",
    "plt.xlabel(\"Classes\", fontsize=15) \n",
    "plt.ylabel(\"Accuracy\", fontsize=15) \n",
    "plt.title(\"Accuracy with 100 epochs Xception model\", fontsize=25) \n",
    "plt.savefig('100ep_Xception.png')\n",
    "plt.show(fig1)\n"
   ]
  },
  {
   "cell_type": "code",
   "execution_count": 112,
   "metadata": {},
   "outputs": [
    {
     "data": {
      "image/png": "[encoded data removed]",
      "text/plain": [
       "<matplotlib.figure.Figure at 0x21941b233c8>"
      ]
     },
     "metadata": {},
     "output_type": "display_data"
    }
   ],
   "source": [
    "plt.figure(figsize=(12,6)) \n",
    "fig2 = sns.barplot(data=df2, capsize=.1) \n",
    "plt.xlabel(\"Classes\", fontsize=15) \n",
    "plt.ylabel(\"Accuracy\", fontsize=15) \n",
    "plt.title(\"Accuracy with 200 epochs Xception model\", fontsize=25) \n",
    "plt.savefig('200ep_Xception.png')\n",
    "plt.show(fig2)"
   ]
  },
  {
   "cell_type": "code",
   "execution_count": 113,
   "metadata": {},
   "outputs": [
    {
     "data": {
      "text/html": [
       "<div>\n",
       "<style>\n",
       "    .dataframe thead tr:only-child th {\n",
       "        text-align: right;\n",
       "    }\n",
       "\n",
       "    .dataframe thead th {\n",
       "        text-align: left;\n",
       "    }\n",
       "\n",
       "    .dataframe tbody tr th {\n",
       "        vertical-align: top;\n",
       "    }\n",
       "</style>\n",
       "<table border=\"1\" class=\"dataframe\">\n",
       "  <thead>\n",
       "    <tr style=\"text-align: right;\">\n",
       "      <th></th>\n",
       "      <th>100 epochs</th>\n",
       "      <th>200 epochs</th>\n",
       "      <th>Class</th>\n",
       "    </tr>\n",
       "  </thead>\n",
       "  <tbody>\n",
       "    <tr>\n",
       "      <th>animals</th>\n",
       "      <td>0.179582</td>\n",
       "      <td>0.190823</td>\n",
       "      <td>animals</td>\n",
       "    </tr>\n",
       "    <tr>\n",
       "      <th>beaches</th>\n",
       "      <td>0.066115</td>\n",
       "      <td>0.064133</td>\n",
       "      <td>beaches</td>\n",
       "    </tr>\n",
       "    <tr>\n",
       "      <th>birds</th>\n",
       "      <td>0.021237</td>\n",
       "      <td>0.021024</td>\n",
       "      <td>birds</td>\n",
       "    </tr>\n",
       "    <tr>\n",
       "      <th>electronics</th>\n",
       "      <td>0.149267</td>\n",
       "      <td>0.144280</td>\n",
       "      <td>electronics</td>\n",
       "    </tr>\n",
       "    <tr>\n",
       "      <th>fashion</th>\n",
       "      <td>0.124360</td>\n",
       "      <td>0.130608</td>\n",
       "      <td>fashion</td>\n",
       "    </tr>\n",
       "    <tr>\n",
       "      <th>nature</th>\n",
       "      <td>0.186483</td>\n",
       "      <td>0.192032</td>\n",
       "      <td>nature</td>\n",
       "    </tr>\n",
       "    <tr>\n",
       "      <th>landmarks</th>\n",
       "      <td>0.128775</td>\n",
       "      <td>0.119491</td>\n",
       "      <td>landmarks</td>\n",
       "    </tr>\n",
       "    <tr>\n",
       "      <th>people</th>\n",
       "      <td>0.144180</td>\n",
       "      <td>0.137609</td>\n",
       "      <td>people</td>\n",
       "    </tr>\n",
       "  </tbody>\n",
       "</table>\n",
       "</div>"
      ],
      "text/plain": [
       "             100 epochs  200 epochs        Class\n",
       "animals        0.179582    0.190823      animals\n",
       "beaches        0.066115    0.064133      beaches\n",
       "birds          0.021237    0.021024        birds\n",
       "electronics    0.149267    0.144280  electronics\n",
       "fashion        0.124360    0.130608      fashion\n",
       "nature         0.186483    0.192032       nature\n",
       "landmarks      0.128775    0.119491    landmarks\n",
       "people         0.144180    0.137609       people"
      ]
     },
     "execution_count": 113,
     "metadata": {},
     "output_type": "execute_result"
    }
   ],
   "source": [
    "d3 = {'Class': classes, '100 epochs': means1, '200 epochs': means2}\n",
    "df3 = pd.DataFrame(data=d3)\n",
    "df3"
   ]
  },
  {
   "cell_type": "code",
   "execution_count": 114,
   "metadata": {},
   "outputs": [
    {
     "data": {
      "text/plain": [
       "<matplotlib.figure.Figure at 0x2193c5c7898>"
      ]
     },
     "metadata": {},
     "output_type": "display_data"
    },
    {
     "data": {
      "image/png": "[encoded data removed]",
      "text/plain": [
       "<matplotlib.figure.Figure at 0x21933fb1908>"
      ]
     },
     "metadata": {},
     "output_type": "display_data"
    }
   ],
   "source": [
    "df = pd.melt(df3, id_vars=\"Class\", var_name=\"epochs\", value_name=\"Accuracy\")\n",
    "plt.figure(figsize=(12,6))\n",
    "sns.factorplot(x='Class', y='Accuracy', hue='epochs', data=df, kind='bar',size=7, aspect=1.5)\n",
    "plt.xlabel(\"Classes\", fontsize=15) \n",
    "plt.ylabel(\"Accuracy\", fontsize=15) \n",
    "plt.title(\"Accuracy comparison 100 and 200 epochs\", fontsize=25) \n",
    "plt.savefig('Comparison_Xception_ep.png')\n",
    "plt.show()"
   ]
  },
  {
   "cell_type": "code",
   "execution_count": null,
   "metadata": {
    "collapsed": true
   },
   "outputs": [],
   "source": []
  },
  {
   "cell_type": "code",
   "execution_count": null,
   "metadata": {
    "collapsed": true
   },
   "outputs": [],
   "source": []
  }
 ],
 "metadata": {
  "kernelspec": {
   "display_name": "Python [default]",
   "language": "python",
   "name": "python3"
  },
  "language_info": {
   "codemirror_mode": {
    "name": "ipython",
    "version": 3
   },
   "file_extension": ".py",
   "mimetype": "text/x-python",
   "name": "python",
   "nbconvert_exporter": "python",
   "pygments_lexer": "ipython3",
   "version": "3.6.3"
  }
 },
 "nbformat": 4,
 "nbformat_minor": 2
}
