{
 "cells": [
  {
   "cell_type": "code",
   "execution_count": 19,
   "metadata": {
    "collapsed": true
   },
   "outputs": [],
   "source": [
    "#Dependencies\n",
    "import os\n",
    "import io\n",
    "import numpy as np\n",
    "import glob\n",
    "\n",
    "import matplotlib.pyplot as plt\n",
    "%matplotlib inline\n",
    "import tensorflow as tf\n",
    "\n",
    "import keras \n",
    "from keras.preprocessing import image\n",
    "from keras.models import Model\n",
    "from keras.utils import to_categorical\n",
    "from keras.layers import Dense, GlobalAveragePooling2D\n",
    "from keras.preprocessing.image import ImageDataGenerator\n",
    "from keras.applications.inception_v3 import (inception_v3, preprocess_input, decode_predictions)\n",
    "\n",
    "from sklearn.model_selection import train_test_split"
   ]
  },
  {
   "cell_type": "code",
   "execution_count": 20,
   "metadata": {},
   "outputs": [
    {
     "name": "stdout",
     "output_type": "stream",
     "text": [
      "Downloading data from https://github.com/fchollet/deep-learning-models/releases/download/v0.5/inception_v3_weights_tf_dim_ordering_tf_kernels_notop.h5\n",
      "87916544/87910968 [==============================] - 11s 0us/step\n"
     ]
    }
   ],
   "source": [
    "# Load model, exclude top layer \n",
    "baseModel = inception_v3.InceptionV3(include_top=False, \n",
    "                         weights='imagenet')"
   ]
  },
  {
   "cell_type": "code",
   "execution_count": 21,
   "metadata": {},
   "outputs": [
    {
     "name": "stderr",
     "output_type": "stream",
     "text": [
      "C:\\Users\\rupal\\Anaconda3\\lib\\site-packages\\ipykernel_launcher.py:10: UserWarning: Update your `Model` call to the Keras 2 API: `Model(inputs=Tensor(\"in..., outputs=Tensor(\"de...)`\n",
      "  # Remove the CWD from sys.path while we load stuff.\n"
     ]
    }
   ],
   "source": [
    "# Add the last layer \n",
    "num_classes = 8\n",
    "x = baseModel.output\n",
    "x = GlobalAveragePooling2D()(x)\n",
    "# add a Fully Connected Dense Layer of size 1024\n",
    "x = Dense(1024, activation='relu')(x)\n",
    "# add softmax on the output \n",
    "predictions = Dense(num_classes, activation='softmax')(x)\n",
    "# new keras model with last layer \n",
    "model = Model(input=baseModel.input, output=predictions)"
   ]
  },
  {
   "cell_type": "code",
   "execution_count": null,
   "metadata": {
    "collapsed": true
   },
   "outputs": [],
   "source": [
    "# Freeze all layers from basemodel to exclude from training\n",
    "for layer in baseModel.layers:\n",
    "    layer.trainable = False\n",
    "# compile the new model\n",
    "model.compile(optimizer='rmsprop', \n",
    "              loss='categorical_crossentropy',  \n",
    "              metrics=['accuracy'])  "
   ]
  },
  {
   "cell_type": "code",
   "execution_count": 22,
   "metadata": {
    "collapsed": true
   },
   "outputs": [],
   "source": [
    "train_dir = '/floydhub/input/images_split/train'\n",
    "valid_dir = '/floydhub/input/images_split/valid'"
   ]
  },
  {
   "cell_type": "code",
   "execution_count": 25,
   "metadata": {},
   "outputs": [
    {
     "name": "stdout",
     "output_type": "stream",
     "text": [
      "Found 1409 images belonging to 8 classes.\n",
      "Found 32 images belonging to 8 classes.\n"
     ]
    }
   ],
   "source": [
    "#grabs images from the folders\n",
    "\n",
    "train_datagen = ImageDataGenerator(\n",
    "                rescale=1./255,\n",
    "                rotation_range=20,\n",
    "                horizontal_flip=True\n",
    "                )\n",
    "\n",
    "train_batches = train_datagen.flow_from_directory(\n",
    "                                directory=train_dir,\n",
    "                                target_size=(299,299), \n",
    "                                classes=['animals','baches','birds','electronics','fashion','nature','landmarks','people'], \n",
    "                                batch_size=10\n",
    "                                )\n",
    "\n",
    "valid_datagen = ImageDataGenerator(rescale=1. / 255)\n",
    "valid_batches = valid_datagen.flow_from_directory(\n",
    "                                directory=valid_dir,\n",
    "                                target_size=(299,299),  \n",
    "                                classes=['animals','beaches','birds','electronics','fashion','nature','landmarks','people'],                             \n",
    "                                batch_size=8\n",
    "                                )    "
   ]
  },
  {
   "cell_type": "code",
   "execution_count": 28,
   "metadata": {},
   "outputs": [],
   "source": [
    "epochs = 3\n",
    " \n",
    "steps_per_epoch =len(train_batches.filenames)/epochs"
   ]
  },
  {
   "cell_type": "code",
   "execution_count": null,
   "metadata": {
    "collapsed": true
   },
   "outputs": [],
   "source": [
    "#fit the model on data generator batch by batch\n",
    "model.fit_generator(train_batches, \n",
    "                    steps_per_epoch=486, \n",
    "                    validation_data=valid_batches, \n",
    "                    validation_steps=8, \n",
    "                    epochs=3, \n",
    "                    verbose=2)"
   ]
  },
  {
   "cell_type": "code",
   "execution_count": null,
   "metadata": {
    "collapsed": true
   },
   "outputs": [],
   "source": []
  }
 ],
 "metadata": {
  "kernelspec": {
   "display_name": "Python 3",
   "language": "python",
   "name": "python3"
  },
  "language_info": {
   "codemirror_mode": {
    "name": "ipython",
    "version": 3
   },
   "file_extension": ".py",
   "mimetype": "text/x-python",
   "name": "python",
   "nbconvert_exporter": "python",
   "pygments_lexer": "ipython3",
   "version": "3.6.3"
  }
 },
 "nbformat": 4,
 "nbformat_minor": 2
}
