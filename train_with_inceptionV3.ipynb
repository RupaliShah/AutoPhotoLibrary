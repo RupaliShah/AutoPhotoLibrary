{
 "cells": [
  {
   "cell_type": "code",
   "execution_count": 1,
   "metadata": {},
   "outputs": [
    {
     "name": "stderr",
     "output_type": "stream",
     "text": [
      "Using TensorFlow backend.\n"
     ]
    }
   ],
   "source": [
    "#Dependencies\n",
    "import os\n",
    "import io\n",
    "import numpy as np\n",
    "import glob\n",
    "import PIL\n",
    "\n",
    "\n",
    "import matplotlib.pyplot as plt\n",
    "%matplotlib inline\n",
    "import tensorflow as tf\n",
    "\n",
    "import keras \n",
    "from keras.preprocessing import image\n",
    "from keras.models import Model\n",
    "from keras.utils import to_categorical\n",
    "from keras.layers import Dense, GlobalAveragePooling2D\n",
    "from keras.preprocessing.image import ImageDataGenerator\n",
    "from keras.applications.inception_v3 import (inception_v3, preprocess_input, decode_predictions)\n",
    "\n",
    "from sklearn.model_selection import train_test_split"
   ]
  },
  {
   "cell_type": "code",
   "execution_count": 2,
   "metadata": {
    "collapsed": true
   },
   "outputs": [],
   "source": [
    "# Load model, exclude top layer \n",
    "baseModel = inception_v3.InceptionV3(include_top=False, \n",
    "                         weights='imagenet')"
   ]
  },
  {
   "cell_type": "code",
   "execution_count": 3,
   "metadata": {},
   "outputs": [
    {
     "name": "stderr",
     "output_type": "stream",
     "text": [
      "C:\\Users\\rupal\\Anaconda3\\lib\\site-packages\\ipykernel_launcher.py:10: UserWarning: Update your `Model` call to the Keras 2 API: `Model(inputs=Tensor(\"in..., outputs=Tensor(\"de...)`\n",
      "  # Remove the CWD from sys.path while we load stuff.\n"
     ]
    }
   ],
   "source": [
    "# Add the last layer \n",
    "num_classes = 8\n",
    "x = baseModel.output\n",
    "x = GlobalAveragePooling2D()(x)\n",
    "# add a Fully Connected Dense Layer of size 1024\n",
    "x = Dense(1024, activation='relu')(x)\n",
    "# add softmax on the output \n",
    "predictions = Dense(num_classes, activation='softmax')(x)\n",
    "# new keras model with last layer \n",
    "model = Model(input=baseModel.input, output=predictions)"
   ]
  },
  {
   "cell_type": "code",
   "execution_count": 4,
   "metadata": {
    "collapsed": true
   },
   "outputs": [],
   "source": [
    "# Freeze all layers from basemodel to exclude from training\n",
    "for layer in baseModel.layers:\n",
    "    layer.trainable = False\n",
    "# compile the new model\n",
    "model.compile(optimizer='adam', \n",
    "              loss='categorical_crossentropy',  \n",
    "              metrics=['accuracy'])  "
   ]
  },
  {
   "cell_type": "code",
   "execution_count": 4,
   "metadata": {
    "collapsed": true
   },
   "outputs": [],
   "source": [
    "train_dir = '/floydhub/input/images/train'\n",
    "valid_dir = '/floydhub/input/images/valid' "
   ]
  },
  {
   "cell_type": "code",
   "execution_count": 5,
   "metadata": {
    "collapsed": true
   },
   "outputs": [],
   "source": [
    "target_size = (299, 299)\n",
    "train_batch_size = 100\n",
    "valid_batch_size = 8"
   ]
  },
  {
   "cell_type": "code",
   "execution_count": 6,
   "metadata": {
    "collapsed": true
   },
   "outputs": [],
   "source": [
    "# Perform data augmentation\n",
    "train_datagen = ImageDataGenerator(\n",
    "      rescale=1./255,\n",
    "      rotation_range=20,\n",
    "      horizontal_flip=True)"
   ]
  },
  {
   "cell_type": "code",
   "execution_count": 7,
   "metadata": {},
   "outputs": [
    {
     "name": "stdout",
     "output_type": "stream",
     "text": [
      "Found 1409 images belonging to 8 classes.\n",
      "Found 32 images belonging to 8 classes.\n"
     ]
    }
   ],
   "source": [
    "#grabs images from the folders\n",
    "\n",
    "train_batches = train_datagen.flow_from_directory(\n",
    "                                directory=train_dir,\n",
    "                                target_size=target_size, \n",
    "                                classes=['animals','baches','birds','electronics','fashion','nature','landmarks','people'], \n",
    "                                batch_size=train_batch_size \n",
    "                                )\n",
    "\n",
    "valid_datagen = ImageDataGenerator(rescale=1. / 255)\n",
    "valid_batches = valid_datagen.flow_from_directory(\n",
    "                                directory=valid_dir,\n",
    "                                target_size=target_size,  \n",
    "                                classes=['animals','beaches','birds','electronics','fashion','nature','landmarks','people'],                             \n",
    "                                batch_size=valid_batch_size \n",
    "                                )    "
   ]
  },
  {
   "cell_type": "code",
   "execution_count": 8,
   "metadata": {
    "collapsed": true
   },
   "outputs": [],
   "source": [
    "epochs = 10\n",
    "\n",
    "steps_per_epoch = len(train_batches.filenames)/train_batch_size"
   ]
  },
  {
   "cell_type": "code",
   "execution_count": 9,
   "metadata": {},
   "outputs": [],
   "source": [
    "#fit the model on data generator batch by batch\n",
    "history = model.fit_generator(train_batches, \n",
    "                    steps_per_epoch=steps_per_epoch, \n",
    "                    validation_data=valid_batches, \n",
    "                    validation_steps=8, \n",
    "                    epochs=epochs, \n",
    "                    verbose=2)"
   ]
  },
  {
   "cell_type": "code",
   "execution_count": 10,
   "metadata": {
    "collapsed": true
   },
   "outputs": [],
   "source": [
    "# Save trained model\n",
    "model.save('inception3_train_ep6.h5')"
   ]
  },
  {
   "cell_type": "code",
   "execution_count": null,
   "metadata": {
    "collapsed": true
   },
   "outputs": [],
   "source": [
    "# Check performance by looking at the loss and accuracy curves.\n",
    "\n",
    "acc = history.history['acc']\n",
    "val_acc = history.history['val_acc']\n",
    "loss = history.history['loss']\n",
    "val_loss = history.history['val_loss']\n",
    " \n",
    "epochs = range(len(acc))\n",
    " \n",
    "plt.plot(epochs, acc, 'b', label='Training acc')\n",
    "plt.plot(epochs, val_acc, 'r', label='Validation acc')\n",
    "plt.title('Training and validation accuracy')\n",
    "plt.legend()\n",
    " \n",
    "plt.figure()\n",
    " \n",
    "plt.plot(epochs, loss, 'b', label='Training loss')\n",
    "plt.plot(epochs, val_loss, 'r', label='Validation loss')\n",
    "plt.title('Training and validation loss')\n",
    "plt.legend()\n",
    " \n",
    "plt.show()"
   ]
  }
 ],
 "metadata": {
  "kernelspec": {
   "display_name": "Python 3",
   "language": "python",
   "name": "python3"
  },
  "language_info": {
   "codemirror_mode": {
    "name": "ipython",
    "version": 3
   },
   "file_extension": ".py",
   "mimetype": "text/x-python",
   "name": "python",
   "nbconvert_exporter": "python",
   "pygments_lexer": "ipython3",
   "version": "3.6.3"
  }
 },
 "nbformat": 4,
 "nbformat_minor": 2
}
