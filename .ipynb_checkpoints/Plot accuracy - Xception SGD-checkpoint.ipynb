{
 "cells": [
  {
   "cell_type": "code",
   "execution_count": 15,
   "metadata": {},
   "outputs": [],
   "source": [
    "#Dependencies\n",
    "import os\n",
    "import numpy as np\n",
    "import tensorflow as tf\n",
    "import PIL\n",
    "import pandas as pd\n",
    "\n",
    "import keras \n",
    "from keras.preprocessing import image\n",
    "from keras.models import Model\n",
    "from keras.models import load_model\n",
    "from keras.utils import to_categorical\n",
    "from keras.layers import Dense, GlobalAveragePooling2D\n",
    "from keras.preprocessing.image import ImageDataGenerator\n",
    "from keras.applications.vgg19 import (VGG19, preprocess_input, decode_predictions)\n",
    "\n",
    "from sklearn.model_selection import train_test_split"
   ]
  },
  {
   "cell_type": "code",
   "execution_count": 9,
   "metadata": {},
   "outputs": [],
   "source": [
    "# Trained Model\n",
    "model_1 = load_model(\"Xception_train_b10_ep100_SGD.h5\")\n",
    "model_2 = load_model(\"Xception_train_b10_ep200_SGD.h5\")"
   ]
  },
  {
   "cell_type": "code",
   "execution_count": 10,
   "metadata": {
    "collapsed": true
   },
   "outputs": [],
   "source": [
    "test_batch = 'images_split/test'"
   ]
  },
  {
   "cell_type": "code",
   "execution_count": 11,
   "metadata": {},
   "outputs": [
    {
     "name": "stdout",
     "output_type": "stream",
     "text": [
      "Found 374 images belonging to 8 classes.\n"
     ]
    }
   ],
   "source": [
    "test_datagen = ImageDataGenerator(rescale=1. / 255)\n",
    "\n",
    "test_batches = test_datagen.flow_from_directory(\n",
    "                                directory=test_batch,\n",
    "                                target_size=(224,224),  \n",
    "                                classes=['animals','beaches','birds','electronics','fashion','nature','landmarks','people'],                           \n",
    "                                batch_size=5\n",
    "                                )       "
   ]
  },
  {
   "cell_type": "code",
   "execution_count": 12,
   "metadata": {},
   "outputs": [
    {
     "name": "stderr",
     "output_type": "stream",
     "text": [
      "C:\\Users\\KenJ\\Anaconda3\\lib\\site-packages\\PIL\\Image.py:888: UserWarning: Palette images with Transparency   expressed in bytes should be converted to RGBA images\n",
      "  'to RGBA images')\n"
     ]
    }
   ],
   "source": [
    "predictions_1 = model_1.predict_generator(test_batches, 10)\n",
    "predictions_2 = model_2.predict_generator(test_batches, 10)"
   ]
  },
  {
   "cell_type": "code",
   "execution_count": 13,
   "metadata": {},
   "outputs": [
    {
     "data": {
      "text/plain": [
       "array([[  2.09385746e-07,   5.37301389e-07,   1.31341281e-07,\n",
       "          4.94761343e-06,   3.75884474e-06,   9.99984622e-01,\n",
       "          1.17897559e-06,   4.61359605e-06],\n",
       "       [  1.41498447e-06,   9.62534341e-06,   2.99605904e-06,\n",
       "          9.93506908e-01,   3.52910283e-04,   3.82599491e-03,\n",
       "          3.04763307e-05,   2.26951996e-03],\n",
       "       [  1.16544794e-02,   4.75698430e-03,   1.62909541e-03,\n",
       "          5.68677962e-04,   7.76520491e-01,   8.57137144e-03,\n",
       "          1.81371979e-02,   1.78161696e-01],\n",
       "       [  3.99447919e-04,   5.54891257e-03,   1.48731429e-04,\n",
       "          5.39874833e-04,   2.96269715e-01,   8.19265028e-04,\n",
       "          1.33244076e-03,   6.94941640e-01],\n",
       "       [  6.62104014e-07,   7.74884211e-06,   1.51458573e-06,\n",
       "          9.99179304e-01,   4.43996805e-06,   7.67523597e-04,\n",
       "          2.58057389e-05,   1.29529308e-05],\n",
       "       [  2.76152732e-05,   2.29723708e-04,   2.50396351e-05,\n",
       "          9.83303130e-01,   4.25944017e-04,   9.92175099e-03,\n",
       "          2.60301866e-04,   5.80646982e-03],\n",
       "       [  3.46195961e-08,   3.61314619e-07,   9.90660354e-08,\n",
       "          2.23555773e-07,   6.67245615e-07,   9.99994636e-01,\n",
       "          3.53290488e-06,   3.26853865e-07],\n",
       "       [  8.03468652e-07,   2.16216745e-06,   4.54095755e-07,\n",
       "          5.12919087e-07,   9.99599397e-01,   1.89510793e-05,\n",
       "          4.84720931e-06,   3.72840557e-04],\n",
       "       [  9.85847950e-01,   8.73346580e-04,   2.18440982e-04,\n",
       "          2.85358663e-04,   8.06001422e-04,   6.59766188e-03,\n",
       "          4.60538315e-03,   7.65850302e-04],\n",
       "       [  5.55793704e-08,   8.79285653e-06,   1.52930099e-07,\n",
       "          9.75716716e-07,   2.60718949e-08,   1.90283936e-05,\n",
       "          9.99963880e-01,   6.99284919e-06],\n",
       "       [  5.26563781e-07,   1.25310680e-05,   6.86514568e-07,\n",
       "          2.94956521e-06,   9.98127401e-01,   4.03391023e-05,\n",
       "          1.25000179e-06,   1.81426376e-03],\n",
       "       [  2.62236368e-04,   9.52230010e-04,   8.69032228e-05,\n",
       "          3.05591995e-04,   3.37091461e-02,   5.09383902e-03,\n",
       "          1.69610302e-03,   9.57893968e-01],\n",
       "       [  2.46777690e-05,   9.97373223e-01,   2.12311679e-05,\n",
       "          3.38399004e-05,   7.98381461e-06,   6.52619347e-04,\n",
       "          1.64252752e-03,   2.43728413e-04],\n",
       "       [  2.80795825e-06,   1.14284730e-05,   5.80246251e-07,\n",
       "          5.97751614e-06,   5.60612464e-03,   7.80415485e-06,\n",
       "          1.36123363e-05,   9.94351625e-01],\n",
       "       [  1.96614921e-01,   2.56881700e-03,   8.86005582e-05,\n",
       "          5.50710305e-04,   7.73884961e-03,   1.22813359e-02,\n",
       "          7.60816395e-01,   1.93403997e-02],\n",
       "       [  9.97525394e-01,   1.08551794e-05,   1.28524716e-05,\n",
       "          2.25232598e-05,   2.70221353e-05,   1.90477003e-04,\n",
       "          2.20693974e-03,   4.04137199e-06],\n",
       "       [  7.41655299e-07,   5.13752690e-03,   5.77244100e-06,\n",
       "          1.26398090e-05,   1.76131800e-06,   1.01306373e-02,\n",
       "          9.84450042e-01,   2.60889734e-04],\n",
       "       [  2.06689256e-05,   9.91205234e-05,   5.16012051e-06,\n",
       "          9.89300549e-01,   5.54674671e-07,   1.04716411e-02,\n",
       "          5.59502987e-05,   4.63266479e-05],\n",
       "       [  3.03064894e-06,   9.99700546e-01,   1.62563390e-06,\n",
       "          4.41890552e-06,   3.40046427e-06,   9.25646309e-05,\n",
       "          1.80004266e-04,   1.44289406e-05],\n",
       "       [  8.84331703e-01,   3.41388071e-03,   5.10229729e-03,\n",
       "          2.25249748e-03,   4.86976979e-03,   2.73568067e-03,\n",
       "          9.14415643e-02,   5.85265551e-03],\n",
       "       [  5.96559858e-07,   2.66494444e-05,   9.54149414e-07,\n",
       "          1.38828254e-05,   8.67561903e-06,   9.99923944e-01,\n",
       "          1.78386726e-05,   7.35067442e-06],\n",
       "       [  1.24418523e-06,   1.92799689e-06,   1.09262317e-07,\n",
       "          7.53362315e-07,   9.95801270e-01,   3.13451819e-05,\n",
       "          8.91657510e-06,   4.15445585e-03],\n",
       "       [  5.09232283e-02,   2.68642930e-03,   2.63402791e-04,\n",
       "          8.95654131e-03,   9.32445517e-04,   4.41494323e-02,\n",
       "          8.90478432e-01,   1.61002716e-03],\n",
       "       [  3.04952027e-05,   7.26771614e-05,   2.88167121e-05,\n",
       "          3.36182711e-04,   7.20594823e-01,   4.10290249e-02,\n",
       "          7.80414412e-05,   2.37829968e-01],\n",
       "       [  4.94676176e-04,   9.89960194e-01,   1.94927357e-04,\n",
       "          4.71880601e-04,   1.75156945e-03,   1.31224282e-03,\n",
       "          1.74527417e-03,   4.06911271e-03],\n",
       "       [  9.99881387e-01,   3.91754440e-07,   1.97030386e-06,\n",
       "          3.16375633e-07,   9.34228501e-06,   6.93991315e-05,\n",
       "          3.17513368e-05,   5.46014780e-06],\n",
       "       [  1.80702591e-05,   9.98502493e-01,   5.85385669e-06,\n",
       "          1.86371326e-05,   4.12642021e-06,   1.63622855e-04,\n",
       "          1.09357829e-03,   1.93523389e-04],\n",
       "       [  7.41923810e-04,   5.61497698e-04,   3.42419982e-04,\n",
       "          1.17471602e-04,   3.67854314e-04,   9.96534228e-01,\n",
       "          1.08055270e-03,   2.53976410e-04],\n",
       "       [  3.27589805e-06,   2.43482646e-04,   1.53016697e-06,\n",
       "          4.19591152e-06,   5.64471384e-06,   9.92576778e-01,\n",
       "          7.11600622e-03,   4.89866652e-05],\n",
       "       [  1.61922810e-06,   7.74761793e-05,   2.29168495e-06,\n",
       "          2.78601215e-06,   9.93382454e-01,   7.68278609e-04,\n",
       "          2.20896836e-05,   5.74291032e-03],\n",
       "       [  2.68038366e-05,   1.09780766e-03,   1.37627183e-06,\n",
       "          6.24632958e-05,   8.13127339e-01,   1.16792783e-01,\n",
       "          5.79130778e-04,   6.83121607e-02],\n",
       "       [  9.87211525e-01,   1.08841465e-04,   1.29351032e-03,\n",
       "          8.54568789e-05,   1.36082526e-05,   1.25366473e-03,\n",
       "          9.94224846e-03,   9.11163297e-05],\n",
       "       [  6.37147423e-07,   8.31319483e-07,   9.57046780e-08,\n",
       "          9.93608117e-01,   1.55905345e-05,   6.36978587e-03,\n",
       "          6.23850383e-07,   4.33055766e-06],\n",
       "       [  1.59328309e-07,   7.05005618e-07,   1.26840703e-07,\n",
       "          2.78133854e-07,   9.99865532e-01,   1.14403701e-06,\n",
       "          2.61246953e-07,   1.31749577e-04],\n",
       "       [  6.24639215e-05,   2.28423183e-03,   8.06621319e-05,\n",
       "          1.82845921e-04,   7.62488663e-01,   2.36827526e-02,\n",
       "          3.27256671e-03,   2.07945809e-01],\n",
       "       [  4.07201966e-04,   1.48139196e-04,   9.97884810e-01,\n",
       "          1.11725814e-04,   1.03228034e-04,   5.95915306e-04,\n",
       "          3.13783268e-04,   4.35316411e-04],\n",
       "       [  8.95238263e-05,   9.05278466e-06,   9.98895288e-01,\n",
       "          2.07928788e-05,   1.61906064e-05,   3.90242029e-04,\n",
       "          4.81501222e-04,   9.72593334e-05],\n",
       "       [  9.99910235e-01,   9.66560719e-07,   2.24587893e-06,\n",
       "          2.40535627e-07,   3.97001941e-07,   2.05704164e-05,\n",
       "          6.47119232e-05,   5.54746919e-07],\n",
       "       [  9.51307237e-01,   7.34053901e-05,   1.36410061e-03,\n",
       "          6.80004359e-06,   1.65223581e-04,   2.80224159e-03,\n",
       "          3.88346389e-02,   5.44642797e-03],\n",
       "       [  9.23689299e-07,   3.49188281e-06,   9.63982984e-07,\n",
       "          9.99372423e-01,   3.56287870e-07,   5.65757626e-04,\n",
       "          2.92786117e-05,   2.67646828e-05],\n",
       "       [  3.22518486e-06,   3.39398335e-04,   1.97728823e-05,\n",
       "          5.13737941e-05,   9.82547820e-01,   9.07136593e-03,\n",
       "          3.02339066e-03,   4.94350586e-03],\n",
       "       [  5.27157565e-04,   3.02427821e-03,   4.13680566e-04,\n",
       "          6.14043034e-04,   5.03511837e-05,   7.58122429e-02,\n",
       "          9.18491006e-01,   1.06727926e-03],\n",
       "       [  5.41534646e-05,   5.59639418e-04,   1.22228434e-04,\n",
       "          1.66196212e-01,   4.10445879e-04,   8.32282543e-01,\n",
       "          6.10473799e-05,   3.13772121e-04],\n",
       "       [  9.14161146e-01,   4.06303676e-03,   7.43554765e-03,\n",
       "          8.75788275e-04,   8.23233556e-03,   3.49969268e-02,\n",
       "          2.63373181e-02,   3.89791233e-03],\n",
       "       [  1.17296513e-05,   9.99797881e-01,   3.50701544e-06,\n",
       "          1.40194352e-05,   1.09406737e-05,   2.21438495e-05,\n",
       "          7.70788101e-05,   6.26741967e-05],\n",
       "       [  1.82502703e-07,   1.89903960e-06,   8.48684039e-08,\n",
       "          2.87297837e-07,   3.46807525e-07,   9.99995828e-01,\n",
       "          9.86321879e-07,   4.31725056e-07],\n",
       "       [  1.20339053e-06,   1.54146037e-04,   1.27704561e-06,\n",
       "          4.51772939e-06,   9.68176126e-01,   2.44085153e-04,\n",
       "          5.30512398e-06,   3.14134061e-02],\n",
       "       [  9.25442636e-01,   2.51157326e-03,   2.73052428e-04,\n",
       "          1.05934276e-03,   4.92589595e-03,   3.61183248e-02,\n",
       "          2.72494704e-02,   2.41973461e-03],\n",
       "       [  9.95407641e-01,   5.50986915e-05,   1.07127031e-04,\n",
       "          8.72327219e-05,   9.12887772e-05,   3.13554215e-03,\n",
       "          6.73699542e-04,   4.42546996e-04],\n",
       "       [  1.25171355e-04,   1.08772865e-03,   2.85757240e-04,\n",
       "          4.47963804e-01,   5.79856103e-04,   5.44776142e-01,\n",
       "          2.22992944e-03,   2.95159710e-03]], dtype=float32)"
      ]
     },
     "execution_count": 13,
     "metadata": {},
     "output_type": "execute_result"
    }
   ],
   "source": [
    "predictions_1\n",
    "predictions_2"
   ]
  },
  {
   "cell_type": "code",
   "execution_count": 18,
   "metadata": {},
   "outputs": [
    {
     "data": {
      "text/html": [
       "<div>\n",
       "<style>\n",
       "    .dataframe thead tr:only-child th {\n",
       "        text-align: right;\n",
       "    }\n",
       "\n",
       "    .dataframe thead th {\n",
       "        text-align: left;\n",
       "    }\n",
       "\n",
       "    .dataframe tbody tr th {\n",
       "        vertical-align: top;\n",
       "    }\n",
       "</style>\n",
       "<table border=\"1\" class=\"dataframe\">\n",
       "  <thead>\n",
       "    <tr style=\"text-align: right;\">\n",
       "      <th></th>\n",
       "      <th>Mean_Accuracy</th>\n",
       "      <th>Standard_Deviation</th>\n",
       "    </tr>\n",
       "  </thead>\n",
       "  <tbody>\n",
       "    <tr>\n",
       "      <th>animals</th>\n",
       "      <td>0.199461</td>\n",
       "      <td>0.384648</td>\n",
       "    </tr>\n",
       "    <tr>\n",
       "      <th>beaches</th>\n",
       "      <td>0.101110</td>\n",
       "      <td>0.302157</td>\n",
       "    </tr>\n",
       "    <tr>\n",
       "      <th>birds</th>\n",
       "      <td>0.040700</td>\n",
       "      <td>0.197514</td>\n",
       "    </tr>\n",
       "    <tr>\n",
       "      <th>electronics</th>\n",
       "      <td>0.145484</td>\n",
       "      <td>0.341177</td>\n",
       "    </tr>\n",
       "    <tr>\n",
       "      <th>fashion</th>\n",
       "      <td>0.204213</td>\n",
       "      <td>0.381261</td>\n",
       "    </tr>\n",
       "    <tr>\n",
       "      <th>nature</th>\n",
       "      <td>0.146005</td>\n",
       "      <td>0.326997</td>\n",
       "    </tr>\n",
       "    <tr>\n",
       "      <th>landmarks</th>\n",
       "      <td>0.087410</td>\n",
       "      <td>0.259515</td>\n",
       "    </tr>\n",
       "    <tr>\n",
       "      <th>people</th>\n",
       "      <td>0.075616</td>\n",
       "      <td>0.227994</td>\n",
       "    </tr>\n",
       "  </tbody>\n",
       "</table>\n",
       "</div>"
      ],
      "text/plain": [
       "             Mean_Accuracy  Standard_Deviation\n",
       "animals           0.199461            0.384648\n",
       "beaches           0.101110            0.302157\n",
       "birds             0.040700            0.197514\n",
       "electronics       0.145484            0.341177\n",
       "fashion           0.204213            0.381261\n",
       "nature            0.146005            0.326997\n",
       "landmarks         0.087410            0.259515\n",
       "people            0.075616            0.227994"
      ]
     },
     "execution_count": 18,
     "metadata": {},
     "output_type": "execute_result"
    }
   ],
   "source": [
    "#plot the average of accuray for each \n",
    "import matplotlib.pyplot as plt\n",
    "import seaborn as sns\n",
    "\n",
    "classes = ['animals','beaches','birds','electronics','fashion','nature','landmarks','people']\n",
    "\n",
    "df1 = pd.DataFrame(data = predictions_1[0:,0:], columns = classes)\n",
    "df2 = pd.DataFrame(data = predictions_2[0:,0:], columns = classes)\n",
    "\n",
    "means1 = df1.mean()\n",
    "errors1 = df1.std()\n",
    "\n",
    "means2 = df2.mean()\n",
    "errors2 = df2.std()\n",
    "\n",
    "d1 = {'Mean_Accuracy': means1, 'Standard_Deviation': errors1}\n",
    "table_df1 = pd.DataFrame(data=d1, index=classes)\n",
    "table_df1"
   ]
  },
  {
   "cell_type": "code",
   "execution_count": 19,
   "metadata": {},
   "outputs": [
    {
     "data": {
      "text/html": [
       "<div>\n",
       "<style>\n",
       "    .dataframe thead tr:only-child th {\n",
       "        text-align: right;\n",
       "    }\n",
       "\n",
       "    .dataframe thead th {\n",
       "        text-align: left;\n",
       "    }\n",
       "\n",
       "    .dataframe tbody tr th {\n",
       "        vertical-align: top;\n",
       "    }\n",
       "</style>\n",
       "<table border=\"1\" class=\"dataframe\">\n",
       "  <thead>\n",
       "    <tr style=\"text-align: right;\">\n",
       "      <th></th>\n",
       "      <th>Mean_Accuracy</th>\n",
       "      <th>Standard_Deviation</th>\n",
       "    </tr>\n",
       "  </thead>\n",
       "  <tbody>\n",
       "    <tr>\n",
       "      <th>animals</th>\n",
       "      <td>0.198071</td>\n",
       "      <td>0.388374</td>\n",
       "    </tr>\n",
       "    <tr>\n",
       "      <th>beaches</th>\n",
       "      <td>0.100563</td>\n",
       "      <td>0.301874</td>\n",
       "    </tr>\n",
       "    <tr>\n",
       "      <th>birds</th>\n",
       "      <td>0.040328</td>\n",
       "      <td>0.197553</td>\n",
       "    </tr>\n",
       "    <tr>\n",
       "      <th>electronics</th>\n",
       "      <td>0.131802</td>\n",
       "      <td>0.328161</td>\n",
       "    </tr>\n",
       "    <tr>\n",
       "      <th>fashion</th>\n",
       "      <td>0.207555</td>\n",
       "      <td>0.382696</td>\n",
       "    </tr>\n",
       "    <tr>\n",
       "      <th>nature</th>\n",
       "      <td>0.156754</td>\n",
       "      <td>0.343031</td>\n",
       "    </tr>\n",
       "    <tr>\n",
       "      <th>landmarks</th>\n",
       "      <td>0.096004</td>\n",
       "      <td>0.276106</td>\n",
       "    </tr>\n",
       "    <tr>\n",
       "      <th>people</th>\n",
       "      <td>0.068922</td>\n",
       "      <td>0.216160</td>\n",
       "    </tr>\n",
       "  </tbody>\n",
       "</table>\n",
       "</div>"
      ],
      "text/plain": [
       "             Mean_Accuracy  Standard_Deviation\n",
       "animals           0.198071            0.388374\n",
       "beaches           0.100563            0.301874\n",
       "birds             0.040328            0.197553\n",
       "electronics       0.131802            0.328161\n",
       "fashion           0.207555            0.382696\n",
       "nature            0.156754            0.343031\n",
       "landmarks         0.096004            0.276106\n",
       "people            0.068922            0.216160"
      ]
     },
     "execution_count": 19,
     "metadata": {},
     "output_type": "execute_result"
    }
   ],
   "source": [
    "d2 = {'Mean_Accuracy': means2, 'Standard_Deviation': errors2}\n",
    "table_df2 = pd.DataFrame(data=d2, index=classes)\n",
    "table_df2"
   ]
  },
  {
   "cell_type": "markdown",
   "metadata": {},
   "source": [
    "plt.figure(figsize=(12,6))\n",
    "fig1 = sns.barplot(data=df1, capsize=.1)\n",
    "plt.xlabel(\"Classes\", fontsize=15)\n",
    "plt.ylabel(\"Accuracy\", fontsize=15)\n",
    "plt.title(\"Accuracy with 100 epochs Xception model\", fontsize=25)\n",
    "plt.show(fig1)"
   ]
  },
  {
   "cell_type": "code",
   "execution_count": 23,
   "metadata": {},
   "outputs": [
    {
     "data": {
      "image/png": "[encoded data removed]",
      "text/plain": [
       "<matplotlib.figure.Figure at 0x219131d2e48>"
      ]
     },
     "metadata": {},
     "output_type": "display_data"
    }
   ],
   "source": [
    "plt.figure(figsize=(12,6)) \n",
    "fig1 = sns.barplot(data=df1, capsize=.1) \n",
    "plt.xlabel(\"Classes\", fontsize=15) \n",
    "plt.ylabel(\"Accuracy\", fontsize=15) \n",
    "plt.title(\"Accuracy with 100 epochs Xception model\", fontsize=25) \n",
    "plt.show(fig1)\n",
    "plt.savefig('100ep_Xception.jpg')"
   ]
  },
  {
   "cell_type": "code",
   "execution_count": 24,
   "metadata": {},
   "outputs": [
    {
     "data": {
      "text/plain": [
       "<matplotlib.figure.Figure at 0x219131ab080>"
      ]
     },
     "metadata": {},
     "output_type": "display_data"
    },
    {
     "data": {
      "image/png": "[encoded data removed]",
      "text/plain": [
       "<matplotlib.figure.Figure at 0x2190f581e48>"
      ]
     },
     "metadata": {},
     "output_type": "display_data"
    }
   ],
   "source": [
    "plt.figure(figsize=(12,6)) \n",
    "fig2 = sns.barplot(data=df2, capsize=.1) \n",
    "plt.xlabel(\"Classes\", fontsize=15) \n",
    "plt.ylabel(\"Accuracy\", fontsize=15) \n",
    "plt.title(\"Accuracy with 200 epochs Xception model\", fontsize=25) \n",
    "plt.show(fig2)\n",
    "plt.savefig('200ep_Xception.jpg')"
   ]
  },
  {
   "cell_type": "code",
   "execution_count": 57,
   "metadata": {},
   "outputs": [
    {
     "data": {
      "text/html": [
       "<div>\n",
       "<style>\n",
       "    .dataframe thead tr:only-child th {\n",
       "        text-align: right;\n",
       "    }\n",
       "\n",
       "    .dataframe thead th {\n",
       "        text-align: left;\n",
       "    }\n",
       "\n",
       "    .dataframe tbody tr th {\n",
       "        vertical-align: top;\n",
       "    }\n",
       "</style>\n",
       "<table border=\"1\" class=\"dataframe\">\n",
       "  <thead>\n",
       "    <tr style=\"text-align: right;\">\n",
       "      <th></th>\n",
       "      <th>100 epochs</th>\n",
       "      <th>200 epochs</th>\n",
       "      <th>Class</th>\n",
       "    </tr>\n",
       "  </thead>\n",
       "  <tbody>\n",
       "    <tr>\n",
       "      <th>animals</th>\n",
       "      <td>0.199461</td>\n",
       "      <td>0.198071</td>\n",
       "      <td>animals</td>\n",
       "    </tr>\n",
       "    <tr>\n",
       "      <th>beaches</th>\n",
       "      <td>0.101110</td>\n",
       "      <td>0.100563</td>\n",
       "      <td>beaches</td>\n",
       "    </tr>\n",
       "    <tr>\n",
       "      <th>birds</th>\n",
       "      <td>0.040700</td>\n",
       "      <td>0.040328</td>\n",
       "      <td>birds</td>\n",
       "    </tr>\n",
       "    <tr>\n",
       "      <th>electronics</th>\n",
       "      <td>0.145484</td>\n",
       "      <td>0.131802</td>\n",
       "      <td>electronics</td>\n",
       "    </tr>\n",
       "    <tr>\n",
       "      <th>fashion</th>\n",
       "      <td>0.204213</td>\n",
       "      <td>0.207555</td>\n",
       "      <td>fashion</td>\n",
       "    </tr>\n",
       "    <tr>\n",
       "      <th>nature</th>\n",
       "      <td>0.146005</td>\n",
       "      <td>0.156754</td>\n",
       "      <td>nature</td>\n",
       "    </tr>\n",
       "    <tr>\n",
       "      <th>landmarks</th>\n",
       "      <td>0.087410</td>\n",
       "      <td>0.096004</td>\n",
       "      <td>landmarks</td>\n",
       "    </tr>\n",
       "    <tr>\n",
       "      <th>people</th>\n",
       "      <td>0.075616</td>\n",
       "      <td>0.068922</td>\n",
       "      <td>people</td>\n",
       "    </tr>\n",
       "  </tbody>\n",
       "</table>\n",
       "</div>"
      ],
      "text/plain": [
       "             100 epochs  200 epochs        Class\n",
       "animals        0.199461    0.198071      animals\n",
       "beaches        0.101110    0.100563      beaches\n",
       "birds          0.040700    0.040328        birds\n",
       "electronics    0.145484    0.131802  electronics\n",
       "fashion        0.204213    0.207555      fashion\n",
       "nature         0.146005    0.156754       nature\n",
       "landmarks      0.087410    0.096004    landmarks\n",
       "people         0.075616    0.068922       people"
      ]
     },
     "execution_count": 57,
     "metadata": {},
     "output_type": "execute_result"
    }
   ],
   "source": [
    "d3 = {'Class': classes, '100 epochs': means1, '200 epochs': means2}\n",
    "df3 = pd.DataFrame(data=d3)\n",
    "df3"
   ]
  },
  {
   "cell_type": "code",
   "execution_count": 67,
   "metadata": {},
   "outputs": [
    {
     "data": {
      "image/png": "[encoded data removed]",
      "text/plain": [
       "<matplotlib.figure.Figure at 0x219183eee10>"
      ]
     },
     "metadata": {},
     "output_type": "display_data"
    }
   ],
   "source": [
    "plt.figure(figsize=(12,6))\n",
    "sns.barplot(x=\"Class\", y=\"100 epochs\", data=df3)\n",
    "plt.xlabel(\"Classes\", fontsize=15) \n",
    "plt.ylabel(\"Accuracy\", fontsize=15) \n",
    "plt.title(\"Accuracy comparison 100 and 200 epochs\", fontsize=25) \n",
    "plt.show()"
   ]
  },
  {
   "cell_type": "code",
   "execution_count": null,
   "metadata": {
    "collapsed": true
   },
   "outputs": [],
   "source": []
  }
 ],
 "metadata": {
  "kernelspec": {
   "display_name": "Python [default]",
   "language": "python",
   "name": "python3"
  },
  "language_info": {
   "codemirror_mode": {
    "name": "ipython",
    "version": 3
   },
   "file_extension": ".py",
   "mimetype": "text/x-python",
   "name": "python",
   "nbconvert_exporter": "python",
   "pygments_lexer": "ipython3",
   "version": "3.6.3"
  }
 },
 "nbformat": 4,
 "nbformat_minor": 2
}
