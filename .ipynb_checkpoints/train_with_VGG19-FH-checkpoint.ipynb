{
 "cells": [
  {
   "cell_type": "code",
   "execution_count": 2,
   "metadata": {},
   "outputs": [
    {
     "name": "stderr",
     "output_type": "stream",
     "text": [
      "Using TensorFlow backend.\n"
     ]
    }
   ],
   "source": [
    "#Dependencies\n",
    "import os\n",
    "import io\n",
    "import numpy as np\n",
    "import glob\n",
    "\n",
    "import matplotlib.pyplot as plt\n",
    "%matplotlib inline\n",
    "import tensorflow as tf\n",
    "\n",
    "import keras \n",
    "from keras.preprocessing import image\n",
    "from keras.models import Model\n",
    "from keras.utils import to_categorical\n",
    "from keras.layers import Dense, GlobalAveragePooling2D\n",
    "from keras.preprocessing.image import ImageDataGenerator\n",
    "from keras.applications.vgg19 import (VGG19, preprocess_input, decode_predictions)\n",
    "\n",
    "from sklearn.model_selection import train_test_split"
   ]
  },
  {
   "cell_type": "code",
   "execution_count": 3,
   "metadata": {
    "collapsed": true
   },
   "outputs": [],
   "source": [
    "# Load VGG19 model, exclude top layer \n",
    "baseModel = VGG19(include_top=False, weights='imagenet')"
   ]
  },
  {
   "cell_type": "code",
   "execution_count": 4,
   "metadata": {},
   "outputs": [
    {
     "name": "stderr",
     "output_type": "stream",
     "text": [
      "C:\\Users\\rupal\\Anaconda3\\lib\\site-packages\\ipykernel_launcher.py:10: UserWarning: Update your `Model` call to the Keras 2 API: `Model(inputs=Tensor(\"in..., outputs=Tensor(\"de...)`\n",
      "  # Remove the CWD from sys.path while we load stuff.\n"
     ]
    }
   ],
   "source": [
    "# Add the last layer \n",
    "num_classes = 8\n",
    "x = baseModel.output\n",
    "x = GlobalAveragePooling2D()(x)\n",
    "# add a Fully Connected Dense Layer of size 1024\n",
    "x = Dense(1024, activation='relu')(x)\n",
    "# add softmax on the output \n",
    "predictions = Dense(num_classes, activation='softmax')(x)\n",
    "# new keras model with last layer \n",
    "model = Model(input=baseModel.input, output=predictions)"
   ]
  },
  {
   "cell_type": "code",
   "execution_count": null,
   "metadata": {},
   "outputs": [],
   "source": [
    "# Show a summary of the model. Check the number of trainable parameters.\n",
    "model.summary()"
   ]
  },
  {
   "cell_type": "code",
   "execution_count": 5,
   "metadata": {
    "collapsed": true
   },
   "outputs": [],
   "source": [
    "# Freeze all layers from basemodel to exclude from training\n",
    "for layer in baseModel.layers:\n",
    "    layer.trainable = False\n",
    "# compile the new model\n",
    "model.compile(optimizer='rmsprop', loss='categorical_crossentropy',  metrics=['accuracy'])  "
   ]
  },
  {
   "cell_type": "code",
   "execution_count": 6,
   "metadata": {
    "collapsed": true
   },
   "outputs": [],
   "source": [
    "train_batch = '/floyd/input/images/train'\n",
    "valid_batch = '/floyd/input/images/valid'\n",
    "test_batch = '/floyd/input/images/test'"
   ]
  },
  {
   "cell_type": "code",
   "execution_count": null,
   "metadata": {},
   "outputs": [],
   "source": [
    "# Perform data augmentation\n",
    "train_datagen = ImageDataGenerator(\n",
    "      rescale=1./255,\n",
    "      rotation_range=20,\n",
    "      horizontal_flip=True,\n",
    "      featurewise_std_normalization=True)\n",
    "\n",
    "validation_datagen = ImageDataGenerator(rescale=1./255)"
   ]
  },
  {
   "cell_type": "code",
   "execution_count": 13,
   "metadata": {},
   "outputs": [
    {
     "name": "stdout",
     "output_type": "stream",
     "text": [
      "Found 1409 images belonging to 8 classes.\n",
      "Found 32 images belonging to 8 classes.\n",
      "Found 374 images belonging to 8 classes.\n"
     ]
    }
   ],
   "source": [
    "#grabs images from the folders\n",
    "# train_batches = ImageDataGenerator().flow_from_directory(directory=train_batch,\n",
    "#                             target_size=(224,224), \n",
    "#                             classes=['animals','baches','birds','electronics','fashion','nature','landmarks','people'], \n",
    "#                             batch_size=10)\n",
    "# valid_batches = ImageDataGenerator().flow_from_directory(directory=valid_batch,\n",
    "#                             target_size=(224,224),  \n",
    "#                             classes=['animals','beaches','birds','electronics','fashion','nature','landmarks','people'],                             \n",
    "#                             batch_size=8)    \n",
    "# test_batches = ImageDataGenerator().flow_from_directory(directory=test_batch,\n",
    "#                             target_size=(224,224),  \n",
    "#                             classes=['animals','beaches','birds','electronics','fashion','nature','landmarks','people'],                           \n",
    "#                             batch_size=10)                                                   \n",
    "image_size = 224\n",
    "train_batchsize = 100\n",
    "val_batchsize = 20\n",
    "\n",
    "train_generator = train_datagen.flow_from_directory(\n",
    "        train_batch,\n",
    "        target_size=(image_size,image_size),\n",
    "        batch_size=train_batchsize,\n",
    "        class_mode='categorical')\n",
    " \n",
    "validation_generator = validation_datagen.flow_from_directory(\n",
    "        valid_batch,\n",
    "        target_size=(image_size, image_size),\n",
    "        batch_size=val_batchsize,\n",
    "        class_mode='categorical',\n",
    "        shuffle=False)"
   ]
  },
  {
   "cell_type": "code",
   "execution_count": 12,
   "metadata": {},
   "outputs": [],
   "source": [
    "#fits the model on data generator batch by batch\n",
    "#history = model.fit_generator(train_batches, steps_per_epoch=486, validation_data=valid_batches, validation_steps=8, epochs=3, verbose=2)\n",
    "history = model.fit_generator(train_batches, steps_per_epoch=243, validation_data=valid_batches, validation_steps=8, epochs=6, verbose=2)"
   ]
  },
  {
   "cell_type": "code",
   "execution_count": null,
   "metadata": {
    "collapsed": true
   },
   "outputs": [],
   "source": [
    "model.save('VGG19_trained_model_aug_ep6.h5')"
   ]
  },
  {
   "cell_type": "code",
   "execution_count": null,
   "metadata": {},
   "outputs": [],
   "source": [
    "model.summary()"
   ]
  }
 ],
 "metadata": {
  "kernelspec": {
   "display_name": "Python 3",
   "language": "python",
   "name": "python3"
  },
  "language_info": {
   "codemirror_mode": {
    "name": "ipython",
    "version": 3
   },
   "file_extension": ".py",
   "mimetype": "text/x-python",
   "name": "python",
   "nbconvert_exporter": "python",
   "pygments_lexer": "ipython3",
   "version": "3.6.5"
  }
 },
 "nbformat": 4,
 "nbformat_minor": 2
}
