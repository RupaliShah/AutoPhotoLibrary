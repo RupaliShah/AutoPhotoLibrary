{
 "cells": [
  {
   "cell_type": "markdown",
   "metadata": {},
   "source": [
    "# Introduction\n",
    "\n",
    "#### Our project is on image recognition to identify eight classifications of ramdomly selected images.   We used convolutional neural network to recognize these images using two specific models, VGG19 and Xception, from the Keras library. "
   ]
  },
  {
   "cell_type": "markdown",
   "metadata": {},
   "source": [
    "# Creating the model using Transfer Learning\n",
    "\n",
    "- ConvNet model pre-trained on ImageNet\n",
    "\n",
    "- Remove the last fully connected layer\n",
    "\n",
    "- Treat the rest of the ConvNet as a feature extractor for the new dataset\n",
    "\n",
    "- Train the classifier for the new dataset\n",
    "\n",
    "- Load and process the images\n",
    "\n",
    "- Save the model\n",
    "          "
   ]
  },
  {
   "cell_type": "markdown",
   "metadata": {},
   "source": [
    "# Dataset\n",
    "\n",
    "### Classifications Used:\n",
    "     1. Animals\n",
    "     2. Beaches\n",
    "     3. Birds\n",
    "     4. Electronics\n",
    "     5. Fashion\n",
    "     6. Nature\n",
    "     7. Landmarks\n",
    "     8. People\n",
    "     \n",
    "\n"
   ]
  },
  {
   "cell_type": "markdown",
   "metadata": {},
   "source": [
    "# Testing Platform\n",
    "\n",
    "FloydHub\n"
   ]
  },
  {
   "cell_type": "markdown",
   "metadata": {},
   "source": [
    "# Preprocessing and Fine Tuning\n",
    "\n",
    "Explain about each of the optimizer\n",
    "1. Adam\n",
    "2. RMSProp\n",
    "3. SGD\n",
    "\n",
    "Augmentation to help increase dataset and generalize data more to hopefully help lessen the noise which results in overfitting.\n",
    "\n"
   ]
  },
  {
   "cell_type": "code",
   "execution_count": null,
   "metadata": {
    "collapsed": true
   },
   "outputs": [],
   "source": [
    "# Training\n",
    "\n",
    "variation in batch size and number of epoch\n"
   ]
  },
  {
   "cell_type": "markdown",
   "metadata": {},
   "source": [
    "![ShowImage](Xception SGD Final - Plot.png)"
   ]
  },
  {
   "cell_type": "markdown",
   "metadata": {},
   "source": [
    "# Evaluation - Add confusion matrix and whisker plot here"
   ]
  },
  {
   "cell_type": "markdown",
   "metadata": {},
   "source": [
    "## Predicting the trained model\n",
    "\n",
    "Confusion Matrix\n",
    "!['Confusion Matrix']('img/conf_matrix.png')\n",
    "\n",
    "Confusion Matrix ( Normalized )\n",
    "!['Confusion Matrix (Normalized0)']('img/conf_matrix_norm.png')\n",
    "\n",
    "Classification Summary\n",
    "!['Classification Summary']('img/classification_report.png')\n",
    "\n",
    "Accuracy Score\n",
    "!['Accuracy Score']('img/accuracy_score.png')"
   ]
  },
  {
   "cell_type": "markdown",
   "metadata": {},
   "source": [
    "# Conclusion\n",
    "larger dataset\n",
    "use of gridsearch to help best parameter determination\n",
    "platform choice"
   ]
  },
  {
   "cell_type": "markdown",
   "metadata": {},
   "source": [
    "# Citation"
   ]
  }
 ],
 "metadata": {
  "kernelspec": {
   "display_name": "Python 3",
   "language": "python",
   "name": "python3"
  },
  "language_info": {
   "codemirror_mode": {
    "name": "ipython",
    "version": 3
   },
   "file_extension": ".py",
   "mimetype": "text/x-python",
   "name": "python",
   "nbconvert_exporter": "python",
   "pygments_lexer": "ipython3",
   "version": "3.6.3"
  }
 },
 "nbformat": 4,
 "nbformat_minor": 2
}
