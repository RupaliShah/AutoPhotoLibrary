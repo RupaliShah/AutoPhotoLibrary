{
 "cells": [
  {
   "cell_type": "markdown",
   "metadata": {},
   "source": [
    "# Introduction\n",
    "\n",
    "Our project is on image recognition to identify eight classifications of ramdomly selected images.   We used convolutional neural network (CNN) to recognize these images training with two specific models, VGG19 and Xception, from the Keras library.\n"
   ]
  },
  {
   "cell_type": "markdown",
   "metadata": {},
   "source": [
    "# Creating the model using Transfer Learning\n",
    "\n",
    "- ConvNet model pre-trained on ImageNet\n",
    "\n",
    "- Remove the last fully connected layer\n",
    "\n",
    "- Treat the rest of the ConvNet as a feature extractor for the new dataset\n",
    "\n",
    "- Train the classifier for the new dataset\n",
    "\n",
    "- Load and process the images\n",
    "\n",
    "- Save the model\n",
    "          \n",
    "![SaveImages](./summary_images/CNN_image.png)"
   ]
  },
  {
   "cell_type": "markdown",
   "metadata": {},
   "source": [
    "# Dataset\n",
    "\n",
    "Images were collected using a [command line python program](https://github.com/hardikvasa/google-images-download) to search and download Google images.  \n",
    "     \n",
    "Images were set to an 80/20 split with a separate set of images reserved for testing. \n",
    "\n",
    "![ShowImages](./summary_images/images_count.PNG)\n"
   ]
  },
  {
   "cell_type": "markdown",
   "metadata": {},
   "source": [
    "# Training Platform\n",
    "\n",
    "* The pre-trained models were trained on FloydHub.\n"
   ]
  },
  {
   "cell_type": "markdown",
   "metadata": {},
   "source": [
    "# Preprocessing and Fine Tuning\n",
    "\n",
    "### Augmentation\n",
    "\n",
    "Augmentation has been added to help increase training dataset and expose the classifier to a wider variety of lighting and coloring situations. \n",
    "\n",
    "Some of the preprocessing values used:\n",
    "\n",
    "* rescale=1./255\n",
    "* horizontal_flip=True\n",
    "* rotation_range = 20\n",
    "\n",
    "### Optimizers\n",
    "\n",
    "Three popular optimizers where chosen to increase the chances of better results within less amount of time. Optimizers are tuning algorithms to help adjust weights.\n",
    "\n",
    "1. Adam \n",
    "2. RMSProp\n",
    "3. SGD\n"
   ]
  },
  {
   "cell_type": "markdown",
   "metadata": {},
   "source": [
    "# Training\n",
    "\n",
    "### Xception Model using SGD optimizer\n",
    "\n",
    "![ShowImage](./summary_images/Xception_w_SGD_training_plots.PNG)\n",
    "\n"
   ]
  },
  {
   "cell_type": "markdown",
   "metadata": {},
   "source": [
    "# Evaluation\n",
    "\n",
    "## Predicting the trained model\n",
    "\n",
    "\n",
    "### Confusion matrix\n",
    "![ShowImage](./summary_images/Confusion Matrix.png)\n",
    "\n",
    "---\n",
    "\n",
    "### Classification Summary\n",
    "![ShowImage](./summary_images/Classification Report.png)\n",
    "\n",
    "---\n",
    "\n",
    "### Accuracy within Each Classification\n",
    "![ShowImages](./summary_images/Accuracy_by_Class_Plot.png)\n",
    "\n",
    "![ShowImages](./summary_images/Mean_Std_Dev_by_Class.png)\n",
    "\n",
    "---\n",
    "\n",
    "### Model Comparison by Classification\n",
    "\n",
    "![ShowImages](./summary_images/Comparison_Model.png)\n",
    "\n",
    "![ShowImages](./summary_images/Model_Comparison_Metric.png)"
   ]
  },
  {
   "cell_type": "markdown",
   "metadata": {},
   "source": [
    "# Conclusion\n",
    "* Use of larger dataset\n",
    "* Pull from existing filtered image dataset\n",
    "* Keep with the same dataset size across each of the classification\n",
    "* Use of gridsearch to help with best parameter determination\n",
    "\n",
    "![ShowImage](./summary_images/Conclusion image.PNG)"
   ]
  },
  {
   "cell_type": "markdown",
   "metadata": {},
   "source": [
    "# Citation\n",
    "\n",
    "* https://github.com/hardikvasa/google-images-download\n",
    "* https://www.dlology.com/blog/quick-notes-on-how-to-choose-optimizer-in-keras/\n",
    "* https://machinelearningmastery.com/adam-optimization-algorithm-for-deep-learning/\n",
    "* https://ucb.bootcampcontent.com/UCB-Coding-Bootcamp/UCBBEL201801DATA5-Class-Repository-DATA/blob/master/21-Machine-Learning/1/Activities/01-Ins_Univariate_Linear_Regression_Sklearn/Images/sklearn_api.png"
   ]
  },
  {
   "cell_type": "code",
   "execution_count": null,
   "metadata": {
    "collapsed": true
   },
   "outputs": [],
   "source": []
  }
 ],
 "metadata": {
  "kernelspec": {
   "display_name": "Python 3",
   "language": "python",
   "name": "python3"
  },
  "language_info": {
   "codemirror_mode": {
    "name": "ipython",
    "version": 3
   },
   "file_extension": ".py",
   "mimetype": "text/x-python",
   "name": "python",
   "nbconvert_exporter": "python",
   "pygments_lexer": "ipython3",
   "version": "3.6.3"
  }
 },
 "nbformat": 4,
 "nbformat_minor": 2
}
