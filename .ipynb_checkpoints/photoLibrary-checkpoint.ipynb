{
 "cells": [
  {
   "cell_type": "code",
   "execution_count": 58,
   "metadata": {},
   "outputs": [],
   "source": [
    "#Dependencies\n",
    "import os\n",
    "import io\n",
    "import numpy as np\n",
    "import glob\n",
    "\n",
    "import matplotlib.pyplot as plt\n",
    "%matplotlib inline\n",
    "import tensorflow as tf\n",
    "\n",
    "import keras \n",
    "from keras.preprocessing import image\n",
    "from keras.models import Model\n",
    "from keras.utils import to_categorical\n",
    "from keras.layers import Dense, GlobalAveragePooling2D\n",
    "from keras.applications.vgg19 import (VGG19, preprocess_input, decode_predictions)\n",
    "\n",
    "from sklearn.model_selection import train_test_split"
   ]
  },
  {
   "cell_type": "code",
   "execution_count": 85,
   "metadata": {},
   "outputs": [],
   "source": [
    "#Load the VGG19 model, excluding top - leave out the weights of the last fully connected layer, since this is specific to Imagenet\n",
    "baseModel = VGG19(include_top=False, weights='imagenet')\n"
   ]
  },
  {
   "cell_type": "code",
   "execution_count": 86,
   "metadata": {},
   "outputs": [
    {
     "name": "stderr",
     "output_type": "stream",
     "text": [
      "C:\\Users\\rupal\\Anaconda3\\lib\\site-packages\\ipykernel_launcher.py:10: UserWarning: Update your `Model` call to the Keras 2 API: `Model(inputs=Tensor(\"in..., outputs=Tensor(\"de...)`\n",
      "  # Remove the CWD from sys.path while we load stuff.\n"
     ]
    }
   ],
   "source": [
    "# Add the last layer \n",
    "num_classes = 2\n",
    "x = baseModel.output\n",
    "x = GlobalAveragePooling2D()(x)\n",
    "# add a Fully Connected Dense Layer of size 1024\n",
    "x = Dense(1024, activation='relu')(x)\n",
    "# add softmax on the output \n",
    "predictions = Dense(num_classes, activation='softmax')(x)\n",
    "# new keras model with last layer \n",
    "model = Model(input=baseModel.input, output=predictions)"
   ]
  },
  {
   "cell_type": "code",
   "execution_count": 87,
   "metadata": {
    "collapsed": true
   },
   "outputs": [],
   "source": [
    "#Freeze all layers and compile the model\n",
    "for layer in baseModel.layers:\n",
    "    layer.trainable = False\n",
    "\n",
    "model.compile(optimizer='rmsprop', loss='categorical_crossentropy',  metrics=['accuracy'])  "
   ]
  },
  {
   "cell_type": "code",
   "execution_count": 88,
   "metadata": {
    "collapsed": true
   },
   "outputs": [],
   "source": [
    "# compile the entire model\n",
    "#for layer in baseModel.layers:\n",
    "#    layer.trainable = True\n",
    "    \n",
    "#model.compile(optimizer='rmsprop', loss='categorical_crossentropy'\n",
    "    "
   ]
  },
  {
   "cell_type": "code",
   "execution_count": 89,
   "metadata": {},
   "outputs": [
    {
     "name": "stdout",
     "output_type": "stream",
     "text": [
      "(224, 224, 3)\n"
     ]
    }
   ],
   "source": [
    "imageArray = []\n",
    "classes = []\n",
    "\n",
    "for image_path in glob.glob(\"images\\\\beaches\\\\*.jpg\"):\n",
    "    img = image.load_img(image_path, target_size=(224, 224))\n",
    "    x = image.img_to_array(img)    \n",
    "    x = preprocess_input(x)\n",
    "    imageArray.append(x)\n",
    "    classes.append(['Beaches', 'Flowers'])\n",
    "\n",
    "y=np.array(classes)\n",
    "y=np.ones(len(imageArray))"
   ]
  },
  {
   "cell_type": "code",
   "execution_count": 96,
   "metadata": {
    "collapsed": true
   },
   "outputs": [],
   "source": [
    "y = to_categorical(y, num_classes)"
   ]
  },
  {
   "cell_type": "code",
   "execution_count": 94,
   "metadata": {},
   "outputs": [],
   "source": [
    "#splitting data into test and train\n",
    "\n",
    "#X_train,X_test,y_train,y_test=train_test_split(imageArray,y,shuffle=True)\n",
    "\n"
   ]
  },
  {
   "cell_type": "code",
   "execution_count": 99,
   "metadata": {},
   "outputs": [
    {
     "name": "stdout",
     "output_type": "stream",
     "text": [
      "Epoch 1/2\n",
      "87/87 [==============================] - 138s 2s/step - loss: 1.1921e-07 - acc: 1.0000\n",
      "Epoch 2/2\n",
      "87/87 [==============================] - 144s 2s/step - loss: 1.1921e-07 - acc: 1.0000\n"
     ]
    },
    {
     "data": {
      "text/plain": [
       "<keras.callbacks.History at 0x243d6b3ed30>"
      ]
     },
     "execution_count": 99,
     "metadata": {},
     "output_type": "execute_result"
    }
   ],
   "source": [
    "# train the model\n",
    "# training with one iteration \n",
    "model.fit(x, y, epochs=2, shuffle=True)"
   ]
  },
  {
   "cell_type": "code",
   "execution_count": null,
   "metadata": {
    "collapsed": true
   },
   "outputs": [],
   "source": [
    "#predict the model \n",
    "x = np.expand_dims(x, axis=0)\n",
    "predict = model.predict(x)\n",
    "results = decode_predictions(predict, top=3)[0]\n",
    "preds = classifier.predict(x)\n",
    "prediction = classes[preds[0]]"
   ]
  }
 ],
 "metadata": {
  "kernelspec": {
   "display_name": "Python 3",
   "language": "python",
   "name": "python3"
  },
  "language_info": {
   "codemirror_mode": {
    "name": "ipython",
    "version": 3
   },
   "file_extension": ".py",
   "mimetype": "text/x-python",
   "name": "python",
   "nbconvert_exporter": "python",
   "pygments_lexer": "ipython3",
   "version": "3.6.3"
  }
 },
 "nbformat": 4,
 "nbformat_minor": 2
}
