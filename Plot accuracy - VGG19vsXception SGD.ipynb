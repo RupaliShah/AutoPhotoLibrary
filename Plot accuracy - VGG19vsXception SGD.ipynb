{
 "cells": [
  {
   "cell_type": "code",
   "execution_count": 1,
   "metadata": {},
   "outputs": [
    {
     "name": "stderr",
     "output_type": "stream",
     "text": [
      "Using TensorFlow backend.\n"
     ]
    }
   ],
   "source": [
    "#Dependencies\n",
    "import os\n",
    "import numpy as np\n",
    "import tensorflow as tf\n",
    "import PIL\n",
    "import pandas as pd\n",
    "\n",
    "import keras \n",
    "from keras.preprocessing import image\n",
    "from keras.models import Model\n",
    "from keras.models import load_model\n",
    "from keras.utils import to_categorical\n",
    "from keras.layers import Dense, GlobalAveragePooling2D\n",
    "from keras.preprocessing.image import ImageDataGenerator\n",
    "from keras.applications.vgg19 import (VGG19, preprocess_input, decode_predictions)\n",
    "\n",
    "from sklearn.model_selection import train_test_split"
   ]
  },
  {
   "cell_type": "code",
   "execution_count": 2,
   "metadata": {
    "collapsed": true
   },
   "outputs": [],
   "source": [
    "# Trained Model\n",
    "model_1 = load_model(\"VGG19_train_b10_ep100_sgd.h5\")\n",
    "model_2 = load_model(\"Xception_train_b10_ep100_SGD.h5\")"
   ]
  },
  {
   "cell_type": "code",
   "execution_count": 3,
   "metadata": {
    "collapsed": true
   },
   "outputs": [],
   "source": [
    "test_batch = 'images_split/test'"
   ]
  },
  {
   "cell_type": "code",
   "execution_count": 4,
   "metadata": {},
   "outputs": [
    {
     "name": "stdout",
     "output_type": "stream",
     "text": [
      "Found 374 images belonging to 8 classes.\n"
     ]
    }
   ],
   "source": [
    "test_datagen = ImageDataGenerator(rescale=1. / 255)\n",
    "\n",
    "test_batches = test_datagen.flow_from_directory(\n",
    "                                directory=test_batch,\n",
    "                                target_size=(224,224),  \n",
    "                                classes=['animals','beaches','birds','electronics','fashion','nature','landmarks','people'],                           \n",
    "                                batch_size=5\n",
    "                                )       "
   ]
  },
  {
   "cell_type": "code",
   "execution_count": 5,
   "metadata": {},
   "outputs": [
    {
     "name": "stderr",
     "output_type": "stream",
     "text": [
      "C:\\Users\\KenJ\\Anaconda3\\lib\\site-packages\\PIL\\Image.py:888: UserWarning: Palette images with Transparency   expressed in bytes should be converted to RGBA images\n",
      "  'to RGBA images')\n"
     ]
    }
   ],
   "source": [
    "predictions_1 = model_1.predict_generator(test_batches, 10)\n",
    "predictions_2 = model_2.predict_generator(test_batches, 10)"
   ]
  },
  {
   "cell_type": "code",
   "execution_count": 6,
   "metadata": {},
   "outputs": [
    {
     "data": {
      "text/plain": [
       "array([[  9.55035388e-01,   1.16103818e-03,   1.29916752e-03,\n",
       "          4.84594749e-03,   1.85897254e-04,   3.33961993e-02,\n",
       "          3.49772256e-03,   5.78661915e-04],\n",
       "       [  9.97444868e-01,   4.58487993e-05,   9.77594682e-05,\n",
       "          1.82794858e-04,   2.01503099e-05,   1.69910316e-03,\n",
       "          1.62475102e-04,   3.47091205e-04],\n",
       "       [  4.27691759e-07,   1.03937327e-05,   3.16135527e-07,\n",
       "          9.59397585e-06,   9.94104207e-01,   4.34139511e-05,\n",
       "          1.78240089e-06,   5.82996150e-03],\n",
       "       [  5.46208909e-08,   1.38261186e-07,   5.80175694e-08,\n",
       "          5.10257451e-07,   9.99944210e-01,   2.79968361e-07,\n",
       "          1.46274758e-07,   5.46954107e-05],\n",
       "       [  2.79775850e-05,   1.02054473e-05,   9.99391794e-01,\n",
       "          8.76307058e-06,   5.43345050e-06,   3.02879169e-04,\n",
       "          1.86279649e-04,   6.65720581e-05],\n",
       "       [  8.60984102e-08,   1.13557171e-05,   2.07447400e-07,\n",
       "          4.14322676e-06,   9.95981336e-01,   1.21587698e-04,\n",
       "          2.41149201e-06,   3.87897459e-03],\n",
       "       [  7.57472026e-06,   2.20695965e-05,   1.58123021e-06,\n",
       "          9.71244872e-01,   7.95565065e-05,   2.84631513e-02,\n",
       "          4.49432555e-05,   1.36286268e-04],\n",
       "       [  3.05831145e-06,   2.36715641e-05,   8.03228545e-07,\n",
       "          5.12907645e-05,   9.71796513e-01,   3.15369143e-05,\n",
       "          8.89531020e-06,   2.80842725e-02],\n",
       "       [  4.49384999e-07,   2.46229519e-07,   7.22984055e-08,\n",
       "          1.75983462e-06,   8.07198830e-06,   9.99983907e-01,\n",
       "          4.64083769e-06,   8.31064256e-07],\n",
       "       [  9.81463927e-07,   7.18837441e-07,   2.43740629e-07,\n",
       "          2.87475046e-07,   1.86402360e-07,   3.08004087e-06,\n",
       "          9.99949694e-01,   4.48370083e-05],\n",
       "       [  1.22991892e-07,   1.10517385e-06,   8.33845988e-08,\n",
       "          5.47726700e-07,   2.14965894e-07,   9.99987245e-01,\n",
       "          9.68344375e-06,   1.09179837e-06],\n",
       "       [  9.98363674e-01,   2.30478923e-04,   6.25142566e-05,\n",
       "          3.85881103e-05,   2.06028795e-04,   7.32793764e-04,\n",
       "          3.08018061e-04,   5.79928383e-05],\n",
       "       [  5.31973683e-06,   5.84461923e-05,   6.68145162e-07,\n",
       "          1.25387969e-05,   5.99328935e-01,   1.20311743e-03,\n",
       "          2.63528986e-04,   3.99127424e-01],\n",
       "       [  1.44062215e-04,   1.13051792e-04,   8.01173446e-05,\n",
       "          2.96116486e-04,   5.73514774e-02,   2.79473723e-03,\n",
       "          8.31696962e-05,   9.39137280e-01],\n",
       "       [  6.77808600e-08,   9.99215126e-01,   6.56549730e-07,\n",
       "          7.88066302e-07,   4.85810460e-07,   1.70112791e-04,\n",
       "          5.44830982e-04,   6.77660937e-05],\n",
       "       [  1.28763503e-07,   4.60135607e-06,   7.28835303e-08,\n",
       "          6.99630903e-07,   9.99391079e-01,   3.69035188e-05,\n",
       "          5.44326156e-07,   5.65915485e-04],\n",
       "       [  1.13916554e-01,   5.36765996e-03,   9.32656170e-04,\n",
       "          7.72225391e-03,   2.18453035e-02,   7.66858101e-01,\n",
       "          7.42719620e-02,   9.08542890e-03],\n",
       "       [  5.99165360e-05,   3.77245779e-05,   2.24241758e-05,\n",
       "          3.60646663e-05,   7.44750141e-05,   8.38224427e-04,\n",
       "          9.98526692e-01,   4.04441264e-04],\n",
       "       [  6.20836858e-04,   9.01118212e-04,   9.92025018e-01,\n",
       "          9.84718557e-04,   1.34646473e-03,   2.69969366e-03,\n",
       "          7.00626639e-04,   7.21428252e-04],\n",
       "       [  9.96159434e-01,   6.55953016e-04,   2.06832861e-04,\n",
       "          2.82335444e-04,   1.34904563e-04,   1.89675740e-03,\n",
       "          5.92298748e-04,   7.14201014e-05],\n",
       "       [  5.81299673e-06,   1.23270060e-04,   4.41278826e-05,\n",
       "          9.82269943e-01,   2.42096110e-04,   1.66218784e-02,\n",
       "          5.90965385e-04,   1.01870726e-04],\n",
       "       [  9.99928951e-01,   1.43559409e-05,   3.44419391e-06,\n",
       "          9.73776991e-07,   1.32251546e-06,   2.58238433e-05,\n",
       "          2.30248952e-05,   2.19333992e-06],\n",
       "       [  3.73588485e-08,   1.57009069e-07,   4.14816892e-09,\n",
       "          7.38202033e-08,   1.01693949e-07,   9.99999404e-01,\n",
       "          7.46705808e-08,   7.33683549e-08],\n",
       "       [  3.41648430e-01,   5.66855632e-03,   3.65625136e-03,\n",
       "          9.90472641e-03,   1.06371958e-02,   1.63274735e-01,\n",
       "          7.96467364e-02,   3.85563314e-01],\n",
       "       [  1.73431090e-06,   2.52244627e-05,   1.34474851e-06,\n",
       "          6.59443288e-07,   2.13079117e-02,   1.86750349e-05,\n",
       "          1.04243256e-04,   9.78540182e-01],\n",
       "       [  1.55869259e-06,   6.70219160e-05,   1.14166312e-06,\n",
       "          9.41123290e-06,   9.19718605e-06,   9.99720514e-01,\n",
       "          1.39069714e-04,   5.21344846e-05],\n",
       "       [  2.40467358e-04,   9.89225328e-01,   2.46715848e-04,\n",
       "          8.01053902e-05,   7.77410460e-05,   4.61730361e-03,\n",
       "          4.05417988e-03,   1.45823008e-03],\n",
       "       [  4.80689087e-05,   1.35546652e-04,   1.36934204e-05,\n",
       "          6.26795081e-05,   2.37734712e-05,   9.99180138e-01,\n",
       "          4.71703621e-04,   6.44658430e-05],\n",
       "       [  1.95813391e-05,   7.67795086e-01,   1.14872091e-04,\n",
       "          1.53373490e-04,   1.97138488e-05,   1.06050737e-01,\n",
       "          1.24844499e-01,   1.00217888e-03],\n",
       "       [  8.87644291e-01,   4.24126349e-03,   3.82309710e-03,\n",
       "          6.57800213e-03,   1.11889548e-03,   9.44988336e-03,\n",
       "          7.20641166e-02,   1.50803840e-02],\n",
       "       [  2.27359942e-06,   5.73516081e-05,   1.01209741e-06,\n",
       "          9.98966813e-01,   2.34470008e-06,   8.69102951e-04,\n",
       "          6.44531247e-05,   3.66416170e-05],\n",
       "       [  9.87958312e-01,   2.61068461e-04,   4.33438399e-05,\n",
       "          8.37017607e-04,   1.25438231e-03,   6.86225761e-03,\n",
       "          1.36681797e-03,   1.41687761e-03],\n",
       "       [  2.35820630e-06,   5.62548703e-05,   1.40596876e-06,\n",
       "          2.14573138e-05,   9.81495559e-01,   8.10608835e-05,\n",
       "          7.21647575e-06,   1.83346868e-02],\n",
       "       [  9.95459259e-01,   6.68714289e-04,   2.87036528e-04,\n",
       "          1.55832109e-04,   2.55058316e-04,   1.33661064e-03,\n",
       "          1.78476074e-03,   5.27706106e-05],\n",
       "       [  9.92705762e-01,   1.44423349e-04,   1.98634680e-05,\n",
       "          5.87135291e-05,   3.04440018e-05,   4.00538929e-03,\n",
       "          2.86505697e-03,   1.70358544e-04],\n",
       "       [  6.47115314e-07,   7.55490288e-02,   5.60581702e-06,\n",
       "          6.76430864e-05,   4.27972736e-06,   1.18364831e-02,\n",
       "          9.11587358e-01,   9.49037378e-04],\n",
       "       [  4.60674137e-01,   4.52948269e-03,   5.86037617e-03,\n",
       "          1.67048653e-04,   4.91412611e-05,   4.22173709e-01,\n",
       "          9.84023362e-02,   8.14374443e-03],\n",
       "       [  5.17313765e-06,   1.50927231e-01,   6.50836319e-06,\n",
       "          3.11032782e-05,   4.32764151e-04,   2.98000895e-03,\n",
       "          8.39626789e-03,   8.37220907e-01],\n",
       "       [  1.30223314e-04,   2.54778424e-04,   1.31604811e-05,\n",
       "          8.96087004e-05,   6.88009022e-05,   9.97187436e-01,\n",
       "          1.87984423e-03,   3.76069773e-04],\n",
       "       [  7.79491438e-06,   9.98546779e-01,   2.54464067e-06,\n",
       "          2.74497179e-05,   6.15885881e-07,   1.32864178e-03,\n",
       "          7.06595602e-05,   1.54294266e-05],\n",
       "       [  3.55101228e-08,   2.16704266e-05,   1.61598152e-07,\n",
       "          2.59335829e-05,   9.71541286e-01,   4.43702847e-05,\n",
       "          1.98924081e-05,   2.83465609e-02],\n",
       "       [  8.44578266e-01,   8.49519158e-04,   7.58898864e-03,\n",
       "          3.94659024e-03,   4.15240275e-03,   1.34599939e-01,\n",
       "          1.51527312e-03,   2.76889955e-03],\n",
       "       [  1.61584978e-06,   2.26912607e-06,   3.24640769e-06,\n",
       "          9.99977946e-01,   2.60595982e-07,   7.95179949e-06,\n",
       "          5.63276399e-06,   1.07327696e-06],\n",
       "       [  4.98725800e-04,   1.48504421e-01,   9.29574526e-05,\n",
       "          9.44132189e-05,   4.57465794e-04,   1.03187806e-03,\n",
       "          9.10041481e-03,   8.40219676e-01],\n",
       "       [  2.39632868e-06,   9.99631405e-01,   1.56853218e-06,\n",
       "          3.39689723e-06,   7.26066332e-07,   1.98520302e-05,\n",
       "          3.17960425e-04,   2.25887470e-05],\n",
       "       [  4.61515992e-06,   3.79681228e-06,   1.03766604e-06,\n",
       "          4.91530091e-06,   5.38096938e-05,   9.99914408e-01,\n",
       "          8.82401491e-06,   8.56204315e-06],\n",
       "       [  4.95292079e-06,   1.99509268e-05,   9.76601086e-07,\n",
       "          1.06506868e-05,   7.56754100e-01,   4.47206330e-05,\n",
       "          5.26374279e-05,   2.43111983e-01],\n",
       "       [  7.04440899e-05,   1.51263224e-02,   2.56803143e-03,\n",
       "          3.24460416e-05,   1.83458487e-05,   4.78873635e-03,\n",
       "          9.76745307e-01,   6.50381786e-04],\n",
       "       [  9.22065496e-01,   5.04393422e-04,   2.29919940e-04,\n",
       "          2.35242629e-03,   1.13124214e-03,   6.75891861e-02,\n",
       "          1.16771657e-03,   4.95963963e-03],\n",
       "       [  2.15531895e-06,   8.91484669e-05,   1.20501170e-06,\n",
       "          6.07143329e-06,   6.53279585e-06,   2.87385192e-03,\n",
       "          9.92419779e-01,   4.60120523e-03]], dtype=float32)"
      ]
     },
     "execution_count": 6,
     "metadata": {},
     "output_type": "execute_result"
    }
   ],
   "source": [
    "predictions_1\n",
    "predictions_2"
   ]
  },
  {
   "cell_type": "code",
   "execution_count": 7,
   "metadata": {},
   "outputs": [
    {
     "data": {
      "text/html": [
       "<div>\n",
       "<style>\n",
       "    .dataframe thead tr:only-child th {\n",
       "        text-align: right;\n",
       "    }\n",
       "\n",
       "    .dataframe thead th {\n",
       "        text-align: left;\n",
       "    }\n",
       "\n",
       "    .dataframe tbody tr th {\n",
       "        vertical-align: top;\n",
       "    }\n",
       "</style>\n",
       "<table border=\"1\" class=\"dataframe\">\n",
       "  <thead>\n",
       "    <tr style=\"text-align: right;\">\n",
       "      <th></th>\n",
       "      <th>Mean_Accuracy</th>\n",
       "      <th>Standard_Deviation</th>\n",
       "    </tr>\n",
       "  </thead>\n",
       "  <tbody>\n",
       "    <tr>\n",
       "      <th>animals</th>\n",
       "      <td>0.259969</td>\n",
       "      <td>0.298270</td>\n",
       "    </tr>\n",
       "    <tr>\n",
       "      <th>beaches</th>\n",
       "      <td>0.031028</td>\n",
       "      <td>0.060300</td>\n",
       "    </tr>\n",
       "    <tr>\n",
       "      <th>birds</th>\n",
       "      <td>0.105083</td>\n",
       "      <td>0.172766</td>\n",
       "    </tr>\n",
       "    <tr>\n",
       "      <th>electronics</th>\n",
       "      <td>0.093192</td>\n",
       "      <td>0.239801</td>\n",
       "    </tr>\n",
       "    <tr>\n",
       "      <th>fashion</th>\n",
       "      <td>0.143084</td>\n",
       "      <td>0.240886</td>\n",
       "    </tr>\n",
       "    <tr>\n",
       "      <th>nature</th>\n",
       "      <td>0.199785</td>\n",
       "      <td>0.326397</td>\n",
       "    </tr>\n",
       "    <tr>\n",
       "      <th>landmarks</th>\n",
       "      <td>0.088782</td>\n",
       "      <td>0.168640</td>\n",
       "    </tr>\n",
       "    <tr>\n",
       "      <th>people</th>\n",
       "      <td>0.079077</td>\n",
       "      <td>0.074871</td>\n",
       "    </tr>\n",
       "  </tbody>\n",
       "</table>\n",
       "</div>"
      ],
      "text/plain": [
       "             Mean_Accuracy  Standard_Deviation\n",
       "animals           0.259969            0.298270\n",
       "beaches           0.031028            0.060300\n",
       "birds             0.105083            0.172766\n",
       "electronics       0.093192            0.239801\n",
       "fashion           0.143084            0.240886\n",
       "nature            0.199785            0.326397\n",
       "landmarks         0.088782            0.168640\n",
       "people            0.079077            0.074871"
      ]
     },
     "execution_count": 7,
     "metadata": {},
     "output_type": "execute_result"
    }
   ],
   "source": [
    "#plot the average of accuray for each \n",
    "import matplotlib.pyplot as plt\n",
    "import seaborn as sns\n",
    "\n",
    "classes = ['animals','beaches','birds','electronics','fashion','nature','landmarks','people']\n",
    "\n",
    "df1 = pd.DataFrame(data = predictions_1[0:,0:], columns = classes)\n",
    "df2 = pd.DataFrame(data = predictions_2[0:,0:], columns = classes)\n",
    "\n",
    "means1 = df1.mean()\n",
    "errors1 = df1.std()\n",
    "\n",
    "means2 = df2.mean()\n",
    "errors2 = df2.std()\n",
    "\n",
    "d1 = {'Mean_Accuracy': means1, 'Standard_Deviation': errors1}\n",
    "table_df1 = pd.DataFrame(data=d1, index=classes)\n",
    "table_df1"
   ]
  },
  {
   "cell_type": "code",
   "execution_count": 8,
   "metadata": {},
   "outputs": [
    {
     "data": {
      "text/html": [
       "<div>\n",
       "<style>\n",
       "    .dataframe thead tr:only-child th {\n",
       "        text-align: right;\n",
       "    }\n",
       "\n",
       "    .dataframe thead th {\n",
       "        text-align: left;\n",
       "    }\n",
       "\n",
       "    .dataframe tbody tr th {\n",
       "        vertical-align: top;\n",
       "    }\n",
       "</style>\n",
       "<table border=\"1\" class=\"dataframe\">\n",
       "  <thead>\n",
       "    <tr style=\"text-align: right;\">\n",
       "      <th></th>\n",
       "      <th>Mean_Accuracy</th>\n",
       "      <th>Standard_Deviation</th>\n",
       "    </tr>\n",
       "  </thead>\n",
       "  <tbody>\n",
       "    <tr>\n",
       "      <th>animals</th>\n",
       "      <td>0.229910</td>\n",
       "      <td>0.401497</td>\n",
       "    </tr>\n",
       "    <tr>\n",
       "      <th>beaches</th>\n",
       "      <td>0.103418</td>\n",
       "      <td>0.288521</td>\n",
       "    </tr>\n",
       "    <tr>\n",
       "      <th>birds</th>\n",
       "      <td>0.040375</td>\n",
       "      <td>0.196994</td>\n",
       "    </tr>\n",
       "    <tr>\n",
       "      <th>electronics</th>\n",
       "      <td>0.079833</td>\n",
       "      <td>0.270587</td>\n",
       "    </tr>\n",
       "    <tr>\n",
       "      <th>fashion</th>\n",
       "      <td>0.167859</td>\n",
       "      <td>0.360213</td>\n",
       "    </tr>\n",
       "    <tr>\n",
       "      <th>nature</th>\n",
       "      <td>0.175996</td>\n",
       "      <td>0.357791</td>\n",
       "    </tr>\n",
       "    <tr>\n",
       "      <th>landmarks</th>\n",
       "      <td>0.107378</td>\n",
       "      <td>0.293915</td>\n",
       "    </tr>\n",
       "    <tr>\n",
       "      <th>people</th>\n",
       "      <td>0.095231</td>\n",
       "      <td>0.254047</td>\n",
       "    </tr>\n",
       "  </tbody>\n",
       "</table>\n",
       "</div>"
      ],
      "text/plain": [
       "             Mean_Accuracy  Standard_Deviation\n",
       "animals           0.229910            0.401497\n",
       "beaches           0.103418            0.288521\n",
       "birds             0.040375            0.196994\n",
       "electronics       0.079833            0.270587\n",
       "fashion           0.167859            0.360213\n",
       "nature            0.175996            0.357791\n",
       "landmarks         0.107378            0.293915\n",
       "people            0.095231            0.254047"
      ]
     },
     "execution_count": 8,
     "metadata": {},
     "output_type": "execute_result"
    }
   ],
   "source": [
    "d2 = {'Mean_Accuracy': means2, 'Standard_Deviation': errors2}\n",
    "table_df2 = pd.DataFrame(data=d2, index=classes)\n",
    "table_df2"
   ]
  },
  {
   "cell_type": "code",
   "execution_count": 10,
   "metadata": {},
   "outputs": [
    {
     "data": {
      "image/png": "[encoded data removed]",
      "text/plain": [
       "<matplotlib.figure.Figure at 0x194808b3390>"
      ]
     },
     "metadata": {},
     "output_type": "display_data"
    }
   ],
   "source": [
    "plt.figure(figsize=(12,6)) \n",
    "fig1 = sns.barplot(data=df1, capsize=.1) \n",
    "plt.xlabel(\"Classes\", fontsize=15) \n",
    "plt.ylabel(\"Accuracy\", fontsize=15) \n",
    "plt.title(\"Accuracy with 100 epochs VGG19 model\", fontsize=25) \n",
    "plt.savefig('VGG19_100ep.png')\n",
    "plt.show(fig1)\n"
   ]
  },
  {
   "cell_type": "code",
   "execution_count": 14,
   "metadata": {},
   "outputs": [
    {
     "data": {
      "text/html": [
       "<div>\n",
       "<style>\n",
       "    .dataframe thead tr:only-child th {\n",
       "        text-align: right;\n",
       "    }\n",
       "\n",
       "    .dataframe thead th {\n",
       "        text-align: left;\n",
       "    }\n",
       "\n",
       "    .dataframe tbody tr th {\n",
       "        vertical-align: top;\n",
       "    }\n",
       "</style>\n",
       "<table border=\"1\" class=\"dataframe\">\n",
       "  <thead>\n",
       "    <tr style=\"text-align: right;\">\n",
       "      <th></th>\n",
       "      <th>Mean_Accuracy</th>\n",
       "      <th>Standard_Deviation</th>\n",
       "    </tr>\n",
       "  </thead>\n",
       "  <tbody>\n",
       "    <tr>\n",
       "      <th>animals</th>\n",
       "      <td>0.259969</td>\n",
       "      <td>0.298270</td>\n",
       "    </tr>\n",
       "    <tr>\n",
       "      <th>beaches</th>\n",
       "      <td>0.031028</td>\n",
       "      <td>0.060300</td>\n",
       "    </tr>\n",
       "    <tr>\n",
       "      <th>birds</th>\n",
       "      <td>0.105083</td>\n",
       "      <td>0.172766</td>\n",
       "    </tr>\n",
       "    <tr>\n",
       "      <th>electronics</th>\n",
       "      <td>0.093192</td>\n",
       "      <td>0.239801</td>\n",
       "    </tr>\n",
       "    <tr>\n",
       "      <th>fashion</th>\n",
       "      <td>0.143084</td>\n",
       "      <td>0.240886</td>\n",
       "    </tr>\n",
       "    <tr>\n",
       "      <th>nature</th>\n",
       "      <td>0.199785</td>\n",
       "      <td>0.326397</td>\n",
       "    </tr>\n",
       "    <tr>\n",
       "      <th>landmarks</th>\n",
       "      <td>0.088782</td>\n",
       "      <td>0.168640</td>\n",
       "    </tr>\n",
       "    <tr>\n",
       "      <th>people</th>\n",
       "      <td>0.079077</td>\n",
       "      <td>0.074871</td>\n",
       "    </tr>\n",
       "  </tbody>\n",
       "</table>\n",
       "</div>"
      ],
      "text/plain": [
       "             Mean_Accuracy  Standard_Deviation\n",
       "animals           0.259969            0.298270\n",
       "beaches           0.031028            0.060300\n",
       "birds             0.105083            0.172766\n",
       "electronics       0.093192            0.239801\n",
       "fashion           0.143084            0.240886\n",
       "nature            0.199785            0.326397\n",
       "landmarks         0.088782            0.168640\n",
       "people            0.079077            0.074871"
      ]
     },
     "execution_count": 14,
     "metadata": {},
     "output_type": "execute_result"
    }
   ],
   "source": [
    "table_df1"
   ]
  },
  {
   "cell_type": "code",
   "execution_count": 11,
   "metadata": {},
   "outputs": [
    {
     "data": {
      "image/png": "[encoded data removed]",
      "text/plain": [
       "<matplotlib.figure.Figure at 0x19480d1c358>"
      ]
     },
     "metadata": {},
     "output_type": "display_data"
    }
   ],
   "source": [
    "plt.figure(figsize=(12,6)) \n",
    "fig2 = sns.barplot(data=df2, capsize=.1) \n",
    "plt.xlabel(\"Classes\", fontsize=15) \n",
    "plt.ylabel(\"Accuracy\", fontsize=15) \n",
    "plt.title(\"Accuracy with 100 epochs Xception model\", fontsize=25) \n",
    "plt.savefig('Xception_100ep.png')\n",
    "plt.show(fig2)"
   ]
  },
  {
   "cell_type": "code",
   "execution_count": 15,
   "metadata": {},
   "outputs": [
    {
     "data": {
      "text/html": [
       "<div>\n",
       "<style>\n",
       "    .dataframe thead tr:only-child th {\n",
       "        text-align: right;\n",
       "    }\n",
       "\n",
       "    .dataframe thead th {\n",
       "        text-align: left;\n",
       "    }\n",
       "\n",
       "    .dataframe tbody tr th {\n",
       "        vertical-align: top;\n",
       "    }\n",
       "</style>\n",
       "<table border=\"1\" class=\"dataframe\">\n",
       "  <thead>\n",
       "    <tr style=\"text-align: right;\">\n",
       "      <th></th>\n",
       "      <th>Mean_Accuracy</th>\n",
       "      <th>Standard_Deviation</th>\n",
       "    </tr>\n",
       "  </thead>\n",
       "  <tbody>\n",
       "    <tr>\n",
       "      <th>animals</th>\n",
       "      <td>0.229910</td>\n",
       "      <td>0.401497</td>\n",
       "    </tr>\n",
       "    <tr>\n",
       "      <th>beaches</th>\n",
       "      <td>0.103418</td>\n",
       "      <td>0.288521</td>\n",
       "    </tr>\n",
       "    <tr>\n",
       "      <th>birds</th>\n",
       "      <td>0.040375</td>\n",
       "      <td>0.196994</td>\n",
       "    </tr>\n",
       "    <tr>\n",
       "      <th>electronics</th>\n",
       "      <td>0.079833</td>\n",
       "      <td>0.270587</td>\n",
       "    </tr>\n",
       "    <tr>\n",
       "      <th>fashion</th>\n",
       "      <td>0.167859</td>\n",
       "      <td>0.360213</td>\n",
       "    </tr>\n",
       "    <tr>\n",
       "      <th>nature</th>\n",
       "      <td>0.175996</td>\n",
       "      <td>0.357791</td>\n",
       "    </tr>\n",
       "    <tr>\n",
       "      <th>landmarks</th>\n",
       "      <td>0.107378</td>\n",
       "      <td>0.293915</td>\n",
       "    </tr>\n",
       "    <tr>\n",
       "      <th>people</th>\n",
       "      <td>0.095231</td>\n",
       "      <td>0.254047</td>\n",
       "    </tr>\n",
       "  </tbody>\n",
       "</table>\n",
       "</div>"
      ],
      "text/plain": [
       "             Mean_Accuracy  Standard_Deviation\n",
       "animals           0.229910            0.401497\n",
       "beaches           0.103418            0.288521\n",
       "birds             0.040375            0.196994\n",
       "electronics       0.079833            0.270587\n",
       "fashion           0.167859            0.360213\n",
       "nature            0.175996            0.357791\n",
       "landmarks         0.107378            0.293915\n",
       "people            0.095231            0.254047"
      ]
     },
     "execution_count": 15,
     "metadata": {},
     "output_type": "execute_result"
    }
   ],
   "source": [
    "table_df2"
   ]
  },
  {
   "cell_type": "code",
   "execution_count": 12,
   "metadata": {},
   "outputs": [
    {
     "data": {
      "text/html": [
       "<div>\n",
       "<style>\n",
       "    .dataframe thead tr:only-child th {\n",
       "        text-align: right;\n",
       "    }\n",
       "\n",
       "    .dataframe thead th {\n",
       "        text-align: left;\n",
       "    }\n",
       "\n",
       "    .dataframe tbody tr th {\n",
       "        vertical-align: top;\n",
       "    }\n",
       "</style>\n",
       "<table border=\"1\" class=\"dataframe\">\n",
       "  <thead>\n",
       "    <tr style=\"text-align: right;\">\n",
       "      <th></th>\n",
       "      <th>Class</th>\n",
       "      <th>VGG19</th>\n",
       "      <th>Xception</th>\n",
       "    </tr>\n",
       "  </thead>\n",
       "  <tbody>\n",
       "    <tr>\n",
       "      <th>animals</th>\n",
       "      <td>animals</td>\n",
       "      <td>0.259969</td>\n",
       "      <td>0.229910</td>\n",
       "    </tr>\n",
       "    <tr>\n",
       "      <th>beaches</th>\n",
       "      <td>beaches</td>\n",
       "      <td>0.031028</td>\n",
       "      <td>0.103418</td>\n",
       "    </tr>\n",
       "    <tr>\n",
       "      <th>birds</th>\n",
       "      <td>birds</td>\n",
       "      <td>0.105083</td>\n",
       "      <td>0.040375</td>\n",
       "    </tr>\n",
       "    <tr>\n",
       "      <th>electronics</th>\n",
       "      <td>electronics</td>\n",
       "      <td>0.093192</td>\n",
       "      <td>0.079833</td>\n",
       "    </tr>\n",
       "    <tr>\n",
       "      <th>fashion</th>\n",
       "      <td>fashion</td>\n",
       "      <td>0.143084</td>\n",
       "      <td>0.167859</td>\n",
       "    </tr>\n",
       "    <tr>\n",
       "      <th>nature</th>\n",
       "      <td>nature</td>\n",
       "      <td>0.199785</td>\n",
       "      <td>0.175996</td>\n",
       "    </tr>\n",
       "    <tr>\n",
       "      <th>landmarks</th>\n",
       "      <td>landmarks</td>\n",
       "      <td>0.088782</td>\n",
       "      <td>0.107378</td>\n",
       "    </tr>\n",
       "    <tr>\n",
       "      <th>people</th>\n",
       "      <td>people</td>\n",
       "      <td>0.079077</td>\n",
       "      <td>0.095231</td>\n",
       "    </tr>\n",
       "  </tbody>\n",
       "</table>\n",
       "</div>"
      ],
      "text/plain": [
       "                   Class     VGG19  Xception\n",
       "animals          animals  0.259969  0.229910\n",
       "beaches          beaches  0.031028  0.103418\n",
       "birds              birds  0.105083  0.040375\n",
       "electronics  electronics  0.093192  0.079833\n",
       "fashion          fashion  0.143084  0.167859\n",
       "nature            nature  0.199785  0.175996\n",
       "landmarks      landmarks  0.088782  0.107378\n",
       "people            people  0.079077  0.095231"
      ]
     },
     "execution_count": 12,
     "metadata": {},
     "output_type": "execute_result"
    }
   ],
   "source": [
    "d3 = {'Class': classes, 'VGG19': means1, 'Xception': means2}\n",
    "df3 = pd.DataFrame(data=d3)\n",
    "df3"
   ]
  },
  {
   "cell_type": "code",
   "execution_count": 13,
   "metadata": {},
   "outputs": [
    {
     "data": {
      "text/plain": [
       "<matplotlib.figure.Figure at 0x19480ac9630>"
      ]
     },
     "metadata": {},
     "output_type": "display_data"
    },
    {
     "data": {
      "image/png": "[encoded data removed]",
      "text/plain": [
       "<matplotlib.figure.Figure at 0x19480b0fa58>"
      ]
     },
     "metadata": {},
     "output_type": "display_data"
    }
   ],
   "source": [
    "df = pd.melt(df3, id_vars=\"Class\", var_name=\"models\", value_name=\"Accuracy\")\n",
    "plt.figure(figsize=(15,8))\n",
    "sns.factorplot(x='Class', y='Accuracy', hue='models', data=df, kind='bar',size=7, aspect=1.5, legend=False)\n",
    "plt.legend(loc='upper right')\n",
    "plt.xlabel(\"Classes\", fontsize=15) \n",
    "plt.ylabel(\"Accuracy\", fontsize=15) \n",
    "plt.title(\"Accuracy comparison between VGG19 and Xception model\", fontsize=25) \n",
    "plt.savefig('Comparison_Model.png', bbox_inches=\"tight\")\n",
    "plt.show()"
   ]
  },
  {
   "cell_type": "code",
   "execution_count": null,
   "metadata": {
    "collapsed": true
   },
   "outputs": [],
   "source": []
  }
 ],
 "metadata": {
  "kernelspec": {
   "display_name": "Python [default]",
   "language": "python",
   "name": "python3"
  },
  "language_info": {
   "codemirror_mode": {
    "name": "ipython",
    "version": 3
   },
   "file_extension": ".py",
   "mimetype": "text/x-python",
   "name": "python",
   "nbconvert_exporter": "python",
   "pygments_lexer": "ipython3",
   "version": "3.6.3"
  }
 },
 "nbformat": 4,
 "nbformat_minor": 2
}
